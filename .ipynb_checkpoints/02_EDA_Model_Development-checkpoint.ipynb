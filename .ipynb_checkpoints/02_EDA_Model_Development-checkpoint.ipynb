{
 "cells": [
  {
   "cell_type": "markdown",
   "id": "88e41c76-efb2-4d3d-bd70-71201312ee92",
   "metadata": {},
   "source": [
    "## 2.0 Exploratory Data Analysis ##"
   ]
  },
  {
   "cell_type": "code",
   "execution_count": 31,
   "id": "023cf4f0-6220-4f1c-a0ab-095667ae7a83",
   "metadata": {
    "tags": []
   },
   "outputs": [],
   "source": [
    "import pandas as pd\n",
    "import numpy as np\n",
    "import matplotlib.pyplot as plt\n",
    "pd.set_option('display.max_rows', 500)"
   ]
  },
  {
   "cell_type": "code",
   "execution_count": 32,
   "id": "54cfdc4f-43dd-4291-8ed6-303e61c5fbd0",
   "metadata": {
    "tags": []
   },
   "outputs": [],
   "source": [
    "# career = pd.read_csv('ir_career.csv')\n",
    "career = pd.read_csv('data/all_pos_ir_career.csv')"
   ]
  },
  {
   "cell_type": "markdown",
   "id": "d76f6b0b-1be5-4b8d-a6cb-9e6f8bf458fa",
   "metadata": {},
   "source": [
    "So far,  we've been able to create a representation of each player's career as a vector of Injuries (or Status of 'Healthy') where each item in the vector corresponds to the season number of their career.  Season Numbers provide us a convenient way to measure the veteranness of a player. Our assumption is that as a player accummulates more seasons, they more than likely will have a higher probability of incurring an IR injury. The higher the probability for injury, the less likely we'll be to draft them in the early rounds and wait for the risk/reward to be more palatable.\n",
    "\n",
    "Before we delve into player details, let's see if we can glean insights by position."
   ]
  },
  {
   "cell_type": "markdown",
   "id": "df0fccc5-9ead-4457-b62a-e88cb0a2227c",
   "metadata": {},
   "source": [
    "### 2.1 Back to the Basics"
   ]
  },
  {
   "cell_type": "code",
   "execution_count": 33,
   "id": "1287d300-22ec-4a1b-ae1e-82fee8f3a672",
   "metadata": {
    "tags": []
   },
   "outputs": [
    {
     "data": {
      "text/plain": [
       "position\n",
       "DB    563\n",
       "LB    410\n",
       "WR    346\n",
       "RB    250\n",
       "DT    220\n",
       "DE    207\n",
       "OT    206\n",
       "OG    181\n",
       "TE    164\n",
       "QB    126\n",
       "C      84\n",
       "P      23\n",
       "K      20\n",
       "LS      9\n",
       "DL      7\n",
       "Name: count, dtype: int64"
      ]
     },
     "execution_count": 33,
     "metadata": {},
     "output_type": "execute_result"
    }
   ],
   "source": [
    "# Let's get some quick summary statistics on how many players we have for each position:\n",
    "\n",
    "career.position.value_counts()"
   ]
  },
  {
   "cell_type": "markdown",
   "id": "98db4167-bff9-4f0a-8da5-5f62109a663d",
   "metadata": {},
   "source": [
    "<font color=red>Red Flag: Given data is only able to go back to 2013, our numbers are small (low statistical power) and I suspect we'll have many permutations of injuries, further reducing that power. Given this limitation, i feel it's best to model across the entire player dataset and not by position. </font>  Regardless, we'll still want to look at the statistics by position to see if there are any interesting details, including frequency of injuries by position type.  \n",
    "\n",
    "First, let's get a quick breakdown of the number of player's whose careers span the number of seasons (1-9) we're working with. My assumption would be that we'd see higher numbers of player counts in seasons 1-4, and then a marked decline as we move through the later seasons..."
   ]
  },
  {
   "cell_type": "code",
   "execution_count": 34,
   "id": "f278cda2-6e0f-428d-928c-43f293c5c0bb",
   "metadata": {
    "tags": []
   },
   "outputs": [
    {
     "data": {
      "text/html": [
       "<div>\n",
       "<style scoped>\n",
       "    .dataframe tbody tr th:only-of-type {\n",
       "        vertical-align: middle;\n",
       "    }\n",
       "\n",
       "    .dataframe tbody tr th {\n",
       "        vertical-align: top;\n",
       "    }\n",
       "\n",
       "    .dataframe thead tr th {\n",
       "        text-align: left;\n",
       "    }\n",
       "\n",
       "    .dataframe thead tr:last-of-type th {\n",
       "        text-align: right;\n",
       "    }\n",
       "</style>\n",
       "<table border=\"1\" class=\"dataframe\">\n",
       "  <thead>\n",
       "    <tr>\n",
       "      <th></th>\n",
       "      <th colspan=\"4\" halign=\"left\">variable</th>\n",
       "    </tr>\n",
       "    <tr>\n",
       "      <th></th>\n",
       "      <th>count</th>\n",
       "      <th>mean</th>\n",
       "      <th>median</th>\n",
       "      <th>std</th>\n",
       "    </tr>\n",
       "    <tr>\n",
       "      <th>position</th>\n",
       "      <th></th>\n",
       "      <th></th>\n",
       "      <th></th>\n",
       "      <th></th>\n",
       "    </tr>\n",
       "  </thead>\n",
       "  <tbody>\n",
       "    <tr>\n",
       "      <th>DB</th>\n",
       "      <td>563</td>\n",
       "      <td>4.262877</td>\n",
       "      <td>4.0</td>\n",
       "      <td>2.348276</td>\n",
       "    </tr>\n",
       "    <tr>\n",
       "      <th>LB</th>\n",
       "      <td>410</td>\n",
       "      <td>4.197561</td>\n",
       "      <td>4.0</td>\n",
       "      <td>2.266476</td>\n",
       "    </tr>\n",
       "    <tr>\n",
       "      <th>WR</th>\n",
       "      <td>346</td>\n",
       "      <td>4.127168</td>\n",
       "      <td>4.0</td>\n",
       "      <td>2.285686</td>\n",
       "    </tr>\n",
       "    <tr>\n",
       "      <th>RB</th>\n",
       "      <td>250</td>\n",
       "      <td>4.172000</td>\n",
       "      <td>4.0</td>\n",
       "      <td>2.277535</td>\n",
       "    </tr>\n",
       "    <tr>\n",
       "      <th>DT</th>\n",
       "      <td>220</td>\n",
       "      <td>4.640909</td>\n",
       "      <td>4.0</td>\n",
       "      <td>2.519904</td>\n",
       "    </tr>\n",
       "    <tr>\n",
       "      <th>DE</th>\n",
       "      <td>207</td>\n",
       "      <td>4.512077</td>\n",
       "      <td>5.0</td>\n",
       "      <td>2.488537</td>\n",
       "    </tr>\n",
       "    <tr>\n",
       "      <th>OT</th>\n",
       "      <td>206</td>\n",
       "      <td>4.427184</td>\n",
       "      <td>4.0</td>\n",
       "      <td>2.479583</td>\n",
       "    </tr>\n",
       "    <tr>\n",
       "      <th>OG</th>\n",
       "      <td>181</td>\n",
       "      <td>4.403315</td>\n",
       "      <td>4.0</td>\n",
       "      <td>2.428486</td>\n",
       "    </tr>\n",
       "    <tr>\n",
       "      <th>TE</th>\n",
       "      <td>164</td>\n",
       "      <td>4.371951</td>\n",
       "      <td>4.0</td>\n",
       "      <td>2.417105</td>\n",
       "    </tr>\n",
       "    <tr>\n",
       "      <th>QB</th>\n",
       "      <td>126</td>\n",
       "      <td>4.317460</td>\n",
       "      <td>4.0</td>\n",
       "      <td>2.458132</td>\n",
       "    </tr>\n",
       "    <tr>\n",
       "      <th>C</th>\n",
       "      <td>84</td>\n",
       "      <td>4.821429</td>\n",
       "      <td>5.0</td>\n",
       "      <td>2.537244</td>\n",
       "    </tr>\n",
       "    <tr>\n",
       "      <th>P</th>\n",
       "      <td>23</td>\n",
       "      <td>4.434783</td>\n",
       "      <td>4.0</td>\n",
       "      <td>2.693867</td>\n",
       "    </tr>\n",
       "    <tr>\n",
       "      <th>K</th>\n",
       "      <td>20</td>\n",
       "      <td>4.050000</td>\n",
       "      <td>4.0</td>\n",
       "      <td>2.523052</td>\n",
       "    </tr>\n",
       "    <tr>\n",
       "      <th>LS</th>\n",
       "      <td>9</td>\n",
       "      <td>3.666667</td>\n",
       "      <td>4.0</td>\n",
       "      <td>2.449490</td>\n",
       "    </tr>\n",
       "    <tr>\n",
       "      <th>DL</th>\n",
       "      <td>7</td>\n",
       "      <td>4.285714</td>\n",
       "      <td>4.0</td>\n",
       "      <td>2.563480</td>\n",
       "    </tr>\n",
       "  </tbody>\n",
       "</table>\n",
       "</div>"
      ],
      "text/plain": [
       "         variable                           \n",
       "            count      mean median       std\n",
       "position                                    \n",
       "DB            563  4.262877    4.0  2.348276\n",
       "LB            410  4.197561    4.0  2.266476\n",
       "WR            346  4.127168    4.0  2.285686\n",
       "RB            250  4.172000    4.0  2.277535\n",
       "DT            220  4.640909    4.0  2.519904\n",
       "DE            207  4.512077    5.0  2.488537\n",
       "OT            206  4.427184    4.0  2.479583\n",
       "OG            181  4.403315    4.0  2.428486\n",
       "TE            164  4.371951    4.0  2.417105\n",
       "QB            126  4.317460    4.0  2.458132\n",
       "C              84  4.821429    5.0  2.537244\n",
       "P              23  4.434783    4.0  2.693867\n",
       "K              20  4.050000    4.0  2.523052\n",
       "LS              9  3.666667    4.0  2.449490\n",
       "DL              7  4.285714    4.0  2.563480"
      ]
     },
     "execution_count": 34,
     "metadata": {},
     "output_type": "execute_result"
    }
   ],
   "source": [
    "df_long = career.melt(id_vars=['player','position'],\n",
    "                  value_vars=[str(x) for x in range(1,10)])\n",
    "df_long['variable'] = df_long['variable'].astype('int64')\n",
    "\n",
    "df_long.to_csv('data/df_long.csv', sep='|', index=False)\n",
    "# Remove the Nan Values (artifact of melting each player's career according to the number of seasons available)\n",
    "df_nonan = df_long[df_long['value'].isna()==False]\n",
    "\n",
    "# Get the max (highest) season that the player played\n",
    "maxes = (df_nonan.groupby(['player','position'])[['variable']]\n",
    "         .max()\n",
    "         .reset_index())\n",
    "\n",
    "\n",
    "desc_stats = (maxes.groupby('position')[['variable']]\n",
    "              .agg(['count','mean','median','std']))\n",
    "desc_stats.sort_values(('variable','count'), ascending=False)"
   ]
  },
  {
   "cell_type": "markdown",
   "id": "f03a7fde-f140-42ba-8793-033c3b53a80f",
   "metadata": {},
   "source": [
    "Looking across the positions, it seems like average career length for most of the positions in this dataset is close to 5 and a half years"
   ]
  },
  {
   "cell_type": "code",
   "execution_count": 35,
   "id": "052f247e-4880-4c55-9140-52bac4772b2c",
   "metadata": {
    "tags": []
   },
   "outputs": [],
   "source": [
    "# For each number of seasons value (1-9) get the counts of how many players were in that category\n",
    "career_len_counts = maxes.groupby(['position','variable'])[['player']].count().reset_index()\n",
    "\n",
    "\n",
    "# pivot (rotate) the dataframe so that the seasons are listed as columns and the count of players whose career\n",
    "# spanned the corresponding number of seasons is the value in the cell.  Index by position.\n",
    "career_len_counts = career_len_counts.pivot(index='position', columns='variable', values='player')\n",
    "\n",
    "fant_career_counts = career_len_counts[career_len_counts.index.isin(['QB','WR','RB','TE'])]"
   ]
  },
  {
   "cell_type": "code",
   "execution_count": 36,
   "id": "6ed3990b-a9bf-4c89-b346-947ae0a9014f",
   "metadata": {
    "tags": []
   },
   "outputs": [
    {
     "name": "stdout",
     "output_type": "stream",
     "text": [
      "[18. 17. 19. 20. 12. 13.  7. 12.  8.]\n",
      "[30. 42. 37. 38. 36. 21. 20. 14. 12.]\n",
      "[21. 23. 24. 22. 24. 17.  7. 15. 11.]\n",
      "[45. 52. 60. 53. 41. 38. 24. 11. 22.]\n"
     ]
    }
   ],
   "source": [
    "for idx, position in enumerate(fant_career_counts.index):\n",
    "    values = fant_career_counts.iloc[idx].values\n",
    "    print(values)"
   ]
  },
  {
   "cell_type": "code",
   "execution_count": 38,
   "id": "ef9da700-7160-46fa-8805-f175598de4bf",
   "metadata": {
    "tags": []
   },
   "outputs": [
    {
     "data": {
      "image/png": "[encoded data removed]",
      "text/plain": [
       "<Figure size 2000x1200 with 4 Axes>"
      ]
     },
     "metadata": {},
     "output_type": "display_data"
    }
   ],
   "source": [
    "fig, axes = plt.subplots(2, 2, sharex=True, sharey=False, figsize=(20,12))\n",
    "\n",
    "axes = axes.flatten()\n",
    "for idx, position in enumerate(fant_career_counts.index):\n",
    "    values = fant_career_counts.iloc[idx]\n",
    "    x = fant_career_counts.columns\n",
    "    axes[idx].bar(x,values)\n",
    "    axes[idx].set_title(position.upper() + \" Histogram\")\n",
    "plt.show()"
   ]
  },
  {
   "cell_type": "markdown",
   "id": "b7020503-e07b-4f2b-9a29-ec3d7dbf86a7",
   "metadata": {},
   "source": [
    "Not as substantial of a drop-off as I expected, but this might be the issue with the sample size. Keeping in mind that our sample includes active players (whose careers haven't ended yet), we can see the following based on our sample data:\n",
    "\n",
    "    \n",
    "\n",
    "   - For QBs the largest frequency is players whose career spans 4 seasons \n",
    "   - RBs, the most frequent have a career that spans 2 seasons, with a slight drop drop thereafter until a large drop in frequency for players with 6 or greater seasons.\n",
    "   - WRs most frequently have 3-season careers\n",
    "   - Tight Ends have the highest frequency in the 3 seasons bucket. However, there is a slight \"bump\" in the number of players that played 7 seasons which moved the mean over a bit for this position.\n",
    "   \n",
    "For TEs and WRs, you can see a consistent declining trend after the 3rd and 4th seasons. An interesting follow-up question (out-of-scope here: \"How does this compare to un-drafted players?\""
   ]
  },
  {
   "cell_type": "markdown",
   "id": "7b1236bf-8c9b-47fc-beed-c8b4c76873c8",
   "metadata": {},
   "source": [
    "Let's take a look at how the various IR-related injuries are distributed across the first 6 seasons of a player's career. We'll construct it as a proportion of IR injuries to total number of players whose career lasted at least to that season.  We'll create a heatmap where the injury types are specified along the y-axis, the season numbers are listed along the x-axis and we'll mark the proportion of players that spent time on the IR with the particular injury with text & color intensity. "
   ]
  },
  {
   "cell_type": "code",
   "execution_count": 39,
   "id": "fb8757ae-9a96-49a7-b835-f4db23fca0d9",
   "metadata": {
    "tags": []
   },
   "outputs": [
    {
     "data": {
      "text/html": [
       "\n",
       "<style>\n",
       "  #altair-viz-b064dae1b6694ed3a69c81b75e5ca7bf.vega-embed {\n",
       "    width: 100%;\n",
       "    display: flex;\n",
       "  }\n",
       "\n",
       "  #altair-viz-b064dae1b6694ed3a69c81b75e5ca7bf.vega-embed details,\n",
       "  #altair-viz-b064dae1b6694ed3a69c81b75e5ca7bf.vega-embed details summary {\n",
       "    position: relative;\n",
       "  }\n",
       "</style>\n",
       "<div id=\"altair-viz-b064dae1b6694ed3a69c81b75e5ca7bf\"></div>\n",
       "<script type=\"text/javascript\">\n",
       "  var VEGA_DEBUG = (typeof VEGA_DEBUG == \"undefined\") ? {} : VEGA_DEBUG;\n",
       "  (function(spec, embedOpt){\n",
       "    let outputDiv = document.currentScript.previousElementSibling;\n",
       "    if (outputDiv.id !== \"altair-viz-b064dae1b6694ed3a69c81b75e5ca7bf\") {\n",
       "      outputDiv = document.getElementById(\"altair-viz-b064dae1b6694ed3a69c81b75e5ca7bf\");\n",
       "    }\n",
       "    const paths = {\n",
       "      \"vega\": \"https://cdn.jsdelivr.net/npm/vega@5?noext\",\n",
       "      \"vega-lib\": \"https://cdn.jsdelivr.net/npm/vega-lib?noext\",\n",
       "      \"vega-lite\": \"https://cdn.jsdelivr.net/npm/vega-lite@5.8.0?noext\",\n",
       "      \"vega-embed\": \"https://cdn.jsdelivr.net/npm/vega-embed@6?noext\",\n",
       "    };\n",
       "\n",
       "    function maybeLoadScript(lib, version) {\n",
       "      var key = `${lib.replace(\"-\", \"\")}_version`;\n",
       "      return (VEGA_DEBUG[key] == version) ?\n",
       "        Promise.resolve(paths[lib]) :\n",
       "        new Promise(function(resolve, reject) {\n",
       "          var s = document.createElement('script');\n",
       "          document.getElementsByTagName(\"head\")[0].appendChild(s);\n",
       "          s.async = true;\n",
       "          s.onload = () => {\n",
       "            VEGA_DEBUG[key] = version;\n",
       "            return resolve(paths[lib]);\n",
       "          };\n",
       "          s.onerror = () => reject(`Error loading script: ${paths[lib]}`);\n",
       "          s.src = paths[lib];\n",
       "        });\n",
       "    }\n",
       "\n",
       "    function showError(err) {\n",
       "      outputDiv.innerHTML = `<div class=\"error\" style=\"color:red;\">${err}</div>`;\n",
       "      throw err;\n",
       "    }\n",
       "\n",
       "    function displayChart(vegaEmbed) {\n",
       "      vegaEmbed(outputDiv, spec, embedOpt)\n",
       "        .catch(err => showError(`Javascript Error: ${err.message}<br>This usually means there's a typo in your chart specification. See the javascript console for the full traceback.`));\n",
       "    }\n",
       "\n",
       "    if(typeof define === \"function\" && define.amd) {\n",
       "      requirejs.config({paths});\n",
       "      require([\"vega-embed\"], displayChart, err => showError(`Error loading script: ${err.message}`));\n",
       "    } else {\n",
       "      maybeLoadScript(\"vega\", \"5\")\n",
       "        .then(() => maybeLoadScript(\"vega-lite\", \"5.8.0\"))\n",
       "        .then(() => maybeLoadScript(\"vega-embed\", \"6\"))\n",
       "        .catch(showError)\n",
       "        .then(() => displayChart(vegaEmbed));\n",
       "    }\n",
       "  })({\"config\": {\"view\": {\"continuousWidth\": 300, \"continuousHeight\": 300}}, \"layer\": [{\"mark\": {\"type\": \"rect\"}, \"encoding\": {\"color\": {\"field\": \"prop\", \"type\": \"quantitative\"}, \"x\": {\"field\": \"variable\", \"title\": \"Season\", \"type\": \"ordinal\"}, \"y\": {\"field\": \"value\", \"title\": \"Injury\", \"type\": \"nominal\"}}}, {\"mark\": {\"type\": \"text\", \"align\": \"left\", \"baseline\": \"middle\", \"fill\": \"black\"}, \"encoding\": {\"color\": {\"field\": \"prop\", \"type\": \"quantitative\"}, \"text\": {\"field\": \"prop\", \"format\": \",.3f\", \"type\": \"quantitative\"}, \"x\": {\"field\": \"variable\", \"title\": \"Season\", \"type\": \"ordinal\"}, \"y\": {\"field\": \"value\", \"title\": \"Injury\", \"type\": \"nominal\"}}}], \"data\": {\"name\": \"data-a8d2a42a26fbddebea07d28474cc9df3\"}, \"height\": 800, \"title\": \"IR Injuries By Season and Type (n=25344)\", \"width\": 400, \"$schema\": \"https://vega.github.io/schema/vega-lite/v5.8.0.json\", \"datasets\": {\"data-a8d2a42a26fbddebea07d28474cc9df3\": [{\"variable\": 1, \"value\": \"Achilles\", \"player\": 8, \"position\": 8, \"prop\": 0.0029336266960029336}, {\"variable\": 1, \"value\": \"Ankle\", \"player\": 60, \"position\": 60, \"prop\": 0.022002200220022004}, {\"variable\": 1, \"value\": \"Back\", \"player\": 12, \"position\": 12, \"prop\": 0.0044004400440044}, {\"variable\": 1, \"value\": \"Calf\", \"player\": 4, \"position\": 4, \"prop\": 0.0014668133480014668}, {\"variable\": 1, \"value\": \"Concussion\", \"player\": 15, \"position\": 15, \"prop\": 0.005500550055005501}, {\"variable\": 1, \"value\": \"Designated for Return\", \"player\": 16, \"position\": 16, \"prop\": 0.005867253392005867}, {\"variable\": 1, \"value\": \"Elbow\", \"player\": 2, \"position\": 2, \"prop\": 0.0007334066740007334}, {\"variable\": 1, \"value\": \"Foot\", \"player\": 32, \"position\": 32, \"prop\": 0.011734506784011734}, {\"variable\": 1, \"value\": \"Groin\", \"player\": 11, \"position\": 11, \"prop\": 0.004033736707004034}, {\"variable\": 1, \"value\": \"Hamstring\", \"player\": 44, \"position\": 44, \"prop\": 0.016134946828016136}, {\"variable\": 1, \"value\": \"Hip\", \"player\": 8, \"position\": 8, \"prop\": 0.0029336266960029336}, {\"variable\": 1, \"value\": \"Knee\", \"player\": 143, \"position\": 143, \"prop\": 0.05243857719105244}, {\"variable\": 1, \"value\": \"Leg\", \"player\": 12, \"position\": 12, \"prop\": 0.0044004400440044}, {\"variable\": 1, \"value\": \"Neck\", \"player\": 7, \"position\": 7, \"prop\": 0.002566923359002567}, {\"variable\": 1, \"value\": \"Pectoral\", \"player\": 2, \"position\": 2, \"prop\": 0.0007334066740007334}, {\"variable\": 1, \"value\": \"Quadriceps\", \"player\": 5, \"position\": 5, \"prop\": 0.0018335166850018336}, {\"variable\": 1, \"value\": \"Shoulder\", \"player\": 36, \"position\": 36, \"prop\": 0.013201320132013201}, {\"variable\": 1, \"value\": \"Toe\", \"player\": 6, \"position\": 6, \"prop\": 0.0022002200220022}, {\"variable\": 1, \"value\": \"Undisclosed\", \"player\": 23, \"position\": 23, \"prop\": 0.008434176751008434}, {\"variable\": 1, \"value\": \"Wrist\", \"player\": 3, \"position\": 3, \"prop\": 0.0011001100110011}, {\"variable\": 2, \"value\": \"Achilles\", \"player\": 8, \"position\": 8, \"prop\": 0.0033514872224549644}, {\"variable\": 2, \"value\": \"Ankle\", \"player\": 57, \"position\": 57, \"prop\": 0.02387934645999162}, {\"variable\": 2, \"value\": \"Back\", \"player\": 13, \"position\": 13, \"prop\": 0.005446166736489317}, {\"variable\": 2, \"value\": \"Calf\", \"player\": 5, \"position\": 5, \"prop\": 0.0020946795140343527}, {\"variable\": 2, \"value\": \"Concussion\", \"player\": 13, \"position\": 13, \"prop\": 0.005446166736489317}, {\"variable\": 2, \"value\": \"Designated for Return\", \"player\": 6, \"position\": 6, \"prop\": 0.0025136154168412233}, {\"variable\": 2, \"value\": \"Elbow\", \"player\": 4, \"position\": 4, \"prop\": 0.0016757436112274822}, {\"variable\": 2, \"value\": \"Foot\", \"player\": 38, \"position\": 38, \"prop\": 0.015919564306661083}, {\"variable\": 2, \"value\": \"Groin\", \"player\": 12, \"position\": 12, \"prop\": 0.005027230833682447}, {\"variable\": 2, \"value\": \"Hamstring\", \"player\": 33, \"position\": 33, \"prop\": 0.013824884792626729}, {\"variable\": 2, \"value\": \"Hip\", \"player\": 6, \"position\": 6, \"prop\": 0.0025136154168412233}, {\"variable\": 2, \"value\": \"Knee\", \"player\": 131, \"position\": 131, \"prop\": 0.05488060326770004}, {\"variable\": 2, \"value\": \"Leg\", \"player\": 12, \"position\": 12, \"prop\": 0.005027230833682447}, {\"variable\": 2, \"value\": \"Neck\", \"player\": 11, \"position\": 11, \"prop\": 0.004608294930875576}, {\"variable\": 2, \"value\": \"Pectoral\", \"player\": 7, \"position\": 7, \"prop\": 0.002932551319648094}, {\"variable\": 2, \"value\": \"Quadriceps\", \"player\": 1, \"position\": 1, \"prop\": 0.00041893590280687055}, {\"variable\": 2, \"value\": \"Shoulder\", \"player\": 37, \"position\": 37, \"prop\": 0.015500628403854211}, {\"variable\": 2, \"value\": \"Toe\", \"player\": 8, \"position\": 8, \"prop\": 0.0033514872224549644}, {\"variable\": 2, \"value\": \"Undisclosed\", \"player\": 30, \"position\": 30, \"prop\": 0.012568077084206116}, {\"variable\": 2, \"value\": \"Wrist\", \"player\": 4, \"position\": 4, \"prop\": 0.0016757436112274822}, {\"variable\": 3, \"value\": \"Achilles\", \"player\": 13, \"position\": 13, \"prop\": 0.006539235412474849}, {\"variable\": 3, \"value\": \"Ankle\", \"player\": 51, \"position\": 51, \"prop\": 0.025653923541247486}, {\"variable\": 3, \"value\": \"Back\", \"player\": 6, \"position\": 6, \"prop\": 0.0030181086519114686}, {\"variable\": 3, \"value\": \"Calf\", \"player\": 8, \"position\": 8, \"prop\": 0.004024144869215292}, {\"variable\": 3, \"value\": \"Concussion\", \"player\": 8, \"position\": 8, \"prop\": 0.004024144869215292}, {\"variable\": 3, \"value\": \"Designated for Return\", \"player\": 3, \"position\": 3, \"prop\": 0.0015090543259557343}, {\"variable\": 3, \"value\": \"Elbow\", \"player\": 10, \"position\": 10, \"prop\": 0.005030181086519115}, {\"variable\": 3, \"value\": \"Foot\", \"player\": 35, \"position\": 35, \"prop\": 0.017605633802816902}, {\"variable\": 3, \"value\": \"Groin\", \"player\": 10, \"position\": 10, \"prop\": 0.005030181086519115}, {\"variable\": 3, \"value\": \"Hamstring\", \"player\": 38, \"position\": 38, \"prop\": 0.019114688128772636}, {\"variable\": 3, \"value\": \"Hip\", \"player\": 5, \"position\": 5, \"prop\": 0.0025150905432595573}, {\"variable\": 3, \"value\": \"Knee\", \"player\": 101, \"position\": 101, \"prop\": 0.05080482897384306}, {\"variable\": 3, \"value\": \"Leg\", \"player\": 5, \"position\": 5, \"prop\": 0.0025150905432595573}, {\"variable\": 3, \"value\": \"Neck\", \"player\": 7, \"position\": 7, \"prop\": 0.0035211267605633804}, {\"variable\": 3, \"value\": \"Pectoral\", \"player\": 7, \"position\": 7, \"prop\": 0.0035211267605633804}, {\"variable\": 3, \"value\": \"Quadriceps\", \"player\": 2, \"position\": 2, \"prop\": 0.001006036217303823}, {\"variable\": 3, \"value\": \"Shoulder\", \"player\": 32, \"position\": 32, \"prop\": 0.01609657947686117}, {\"variable\": 3, \"value\": \"Toe\", \"player\": 3, \"position\": 3, \"prop\": 0.0015090543259557343}, {\"variable\": 3, \"value\": \"Undisclosed\", \"player\": 31, \"position\": 31, \"prop\": 0.015593561368209255}, {\"variable\": 3, \"value\": \"Wrist\", \"player\": 8, \"position\": 8, \"prop\": 0.004024144869215292}, {\"variable\": 4, \"value\": \"Achilles\", \"player\": 10, \"position\": 10, \"prop\": 0.00641025641025641}, {\"variable\": 4, \"value\": \"Ankle\", \"player\": 32, \"position\": 32, \"prop\": 0.020512820512820513}, {\"variable\": 4, \"value\": \"Back\", \"player\": 14, \"position\": 14, \"prop\": 0.008974358974358974}, {\"variable\": 4, \"value\": \"Calf\", \"player\": 9, \"position\": 9, \"prop\": 0.0057692307692307696}, {\"variable\": 4, \"value\": \"Concussion\", \"player\": 13, \"position\": 13, \"prop\": 0.008333333333333333}, {\"variable\": 4, \"value\": \"Elbow\", \"player\": 10, \"position\": 10, \"prop\": 0.00641025641025641}, {\"variable\": 4, \"value\": \"Foot\", \"player\": 16, \"position\": 16, \"prop\": 0.010256410256410256}, {\"variable\": 4, \"value\": \"Groin\", \"player\": 7, \"position\": 7, \"prop\": 0.004487179487179487}, {\"variable\": 4, \"value\": \"Hamstring\", \"player\": 32, \"position\": 32, \"prop\": 0.020512820512820513}, {\"variable\": 4, \"value\": \"Hip\", \"player\": 4, \"position\": 4, \"prop\": 0.002564102564102564}, {\"variable\": 4, \"value\": \"Knee\", \"player\": 67, \"position\": 67, \"prop\": 0.04294871794871795}, {\"variable\": 4, \"value\": \"Leg\", \"player\": 3, \"position\": 3, \"prop\": 0.0019230769230769232}, {\"variable\": 4, \"value\": \"Neck\", \"player\": 2, \"position\": 2, \"prop\": 0.001282051282051282}, {\"variable\": 4, \"value\": \"Pectoral\", \"player\": 9, \"position\": 9, \"prop\": 0.0057692307692307696}, {\"variable\": 4, \"value\": \"Quadriceps\", \"player\": 6, \"position\": 6, \"prop\": 0.0038461538461538464}, {\"variable\": 4, \"value\": \"Shoulder\", \"player\": 25, \"position\": 25, \"prop\": 0.016025641025641024}, {\"variable\": 4, \"value\": \"Toe\", \"player\": 3, \"position\": 3, \"prop\": 0.0019230769230769232}, {\"variable\": 4, \"value\": \"Undisclosed\", \"player\": 28, \"position\": 28, \"prop\": 0.017948717948717947}, {\"variable\": 4, \"value\": \"Wrist\", \"player\": 6, \"position\": 6, \"prop\": 0.0038461538461538464}, {\"variable\": 5, \"value\": \"Achilles\", \"player\": 11, \"position\": 11, \"prop\": 0.00935374149659864}, {\"variable\": 5, \"value\": \"Ankle\", \"player\": 27, \"position\": 27, \"prop\": 0.02295918367346939}, {\"variable\": 5, \"value\": \"Back\", \"player\": 5, \"position\": 5, \"prop\": 0.004251700680272109}, {\"variable\": 5, \"value\": \"Calf\", \"player\": 8, \"position\": 8, \"prop\": 0.006802721088435374}, {\"variable\": 5, \"value\": \"Concussion\", \"player\": 6, \"position\": 6, \"prop\": 0.00510204081632653}, {\"variable\": 5, \"value\": \"Elbow\", \"player\": 2, \"position\": 2, \"prop\": 0.0017006802721088435}, {\"variable\": 5, \"value\": \"Foot\", \"player\": 10, \"position\": 10, \"prop\": 0.008503401360544218}, {\"variable\": 5, \"value\": \"Groin\", \"player\": 9, \"position\": 9, \"prop\": 0.007653061224489796}, {\"variable\": 5, \"value\": \"Hamstring\", \"player\": 22, \"position\": 22, \"prop\": 0.01870748299319728}, {\"variable\": 5, \"value\": \"Hip\", \"player\": 4, \"position\": 4, \"prop\": 0.003401360544217687}, {\"variable\": 5, \"value\": \"Knee\", \"player\": 50, \"position\": 50, \"prop\": 0.04251700680272109}, {\"variable\": 5, \"value\": \"Leg\", \"player\": 8, \"position\": 8, \"prop\": 0.006802721088435374}, {\"variable\": 5, \"value\": \"Neck\", \"player\": 2, \"position\": 2, \"prop\": 0.0017006802721088435}, {\"variable\": 5, \"value\": \"Pectoral\", \"player\": 7, \"position\": 7, \"prop\": 0.005952380952380952}, {\"variable\": 5, \"value\": \"Quadriceps\", \"player\": 5, \"position\": 5, \"prop\": 0.004251700680272109}, {\"variable\": 5, \"value\": \"Shoulder\", \"player\": 15, \"position\": 15, \"prop\": 0.012755102040816327}, {\"variable\": 5, \"value\": \"Toe\", \"player\": 6, \"position\": 6, \"prop\": 0.00510204081632653}, {\"variable\": 5, \"value\": \"Undisclosed\", \"player\": 18, \"position\": 18, \"prop\": 0.015306122448979591}, {\"variable\": 5, \"value\": \"Wrist\", \"player\": 3, \"position\": 3, \"prop\": 0.002551020408163265}, {\"variable\": 6, \"value\": \"Achilles\", \"player\": 7, \"position\": 7, \"prop\": 0.008284023668639054}, {\"variable\": 6, \"value\": \"Ankle\", \"player\": 13, \"position\": 13, \"prop\": 0.015384615384615385}, {\"variable\": 6, \"value\": \"Back\", \"player\": 2, \"position\": 2, \"prop\": 0.002366863905325444}, {\"variable\": 6, \"value\": \"Calf\", \"player\": 2, \"position\": 2, \"prop\": 0.002366863905325444}, {\"variable\": 6, \"value\": \"Concussion\", \"player\": 7, \"position\": 7, \"prop\": 0.008284023668639054}, {\"variable\": 6, \"value\": \"Elbow\", \"player\": 2, \"position\": 2, \"prop\": 0.002366863905325444}, {\"variable\": 6, \"value\": \"Foot\", \"player\": 7, \"position\": 7, \"prop\": 0.008284023668639054}, {\"variable\": 6, \"value\": \"Groin\", \"player\": 5, \"position\": 5, \"prop\": 0.005917159763313609}, {\"variable\": 6, \"value\": \"Hamstring\", \"player\": 9, \"position\": 9, \"prop\": 0.010650887573964497}, {\"variable\": 6, \"value\": \"Hip\", \"player\": 2, \"position\": 2, \"prop\": 0.002366863905325444}, {\"variable\": 6, \"value\": \"Knee\", \"player\": 47, \"position\": 47, \"prop\": 0.05562130177514793}, {\"variable\": 6, \"value\": \"Leg\", \"player\": 4, \"position\": 4, \"prop\": 0.004733727810650888}, {\"variable\": 6, \"value\": \"Neck\", \"player\": 4, \"position\": 4, \"prop\": 0.004733727810650888}, {\"variable\": 6, \"value\": \"Pectoral\", \"player\": 8, \"position\": 8, \"prop\": 0.009467455621301775}, {\"variable\": 6, \"value\": \"Quadriceps\", \"player\": 6, \"position\": 6, \"prop\": 0.007100591715976331}, {\"variable\": 6, \"value\": \"Shoulder\", \"player\": 8, \"position\": 8, \"prop\": 0.009467455621301775}, {\"variable\": 6, \"value\": \"Toe\", \"player\": 3, \"position\": 3, \"prop\": 0.0035502958579881655}, {\"variable\": 6, \"value\": \"Undisclosed\", \"player\": 15, \"position\": 15, \"prop\": 0.01775147928994083}, {\"variable\": 6, \"value\": \"Wrist\", \"player\": 2, \"position\": 2, \"prop\": 0.002366863905325444}]}}, {\"mode\": \"vega-lite\"});\n",
       "</script>"
      ],
      "text/plain": [
       "alt.LayerChart(...)"
      ]
     },
     "execution_count": 39,
     "metadata": {},
     "output_type": "execute_result"
    }
   ],
   "source": [
    "import altair as alt\n",
    "\n",
    "\n",
    "htmp = (df_long.groupby(['variable','value'])\n",
    "        .count()\n",
    "        .reset_index())\n",
    "\n",
    "# filter the heatmap data to exclude healthy counts and only the first 6 seasons\n",
    "htmp = htmp.query(\"\"\"variable <= 6 and value !='Healthy'\"\"\")\n",
    "\n",
    "tops = (htmp.groupby('value')['position']\n",
    "        .sum()\n",
    "        .sort_values(ascending=False)[:20])\n",
    "\n",
    "htmp = htmp[htmp['value'].isin(tops.index)] #filter on the top 20 conditions \n",
    "\n",
    "tots = (df_long.groupby(['variable'])\n",
    "        .count()\n",
    "        .reset_index())\n",
    "tots[['variable','value']]\n",
    "tots = tots.set_index('variable')['value'] #create a mappable series\n",
    "\n",
    "htmp['prop'] = htmp['player'] / htmp['variable'].map(tots) # calculate proportion\n",
    "\n",
    "char = alt.Chart(htmp).mark_rect().encode(\n",
    " x=alt.X('variable:O', title='Season'),\n",
    "    y = alt.Y('value:N', title='Injury'),\n",
    "    color = alt.Color('prop:Q')\n",
    ")\n",
    "\n",
    "text = char.mark_text(\n",
    "    align='left',\n",
    "    baseline='middle',\n",
    "    fill = 'black',\n",
    "\n",
    "    \n",
    ").encode(\n",
    "    text=alt.Text('prop:Q',format=\",.3f\")\n",
    ")\n",
    "\n",
    "\n",
    "\n",
    "fullchart = char + text\n",
    "\n",
    "fullchart.properties(width=400,\n",
    "                     height=800,\n",
    "                     title=f\"IR Injuries By Season and Type (n={len(df_long)})\")\n"
   ]
  },
  {
   "cell_type": "markdown",
   "id": "be130add-1513-48b5-a3ad-10883a8a838f",
   "metadata": {},
   "source": [
    "Analysis: We can see from the above heatmap that Knees, Ankle, Hamstring and Shoulder injuries affect a higher proportion of players and are more prevalent across a player's career. It's interesting to note that there's a higher proportion of knee injuries in the first and second seasons of a player's career compared to seasons 3 and later. One would expect that as the seasons rack up the proportions would increase as player's end their careers and incur other injuries that can increase the chance of knee injuries but this dataset isn't showing that to be true.\n",
    "\n",
    "Let's look at this from another angle - what do the probabilities look like of a player staying off the Injured Reserve for each of the season numbers, keeping in mind that our sample is still relatively small due to the website constraints and at risk of violating the law of large numbers.\n",
    "\n",
    "Once again, I'll refer back to the long-form of the careers data to calculate each season's probability.  All players who didn't have a stint on the Injured Reserve will have a \"Healthy\" designation in the \"value\" column. Any other value indicates injury.  Any NaN value (non-existent season for a player) or 9th season (too few observations) will be filtered out.\n"
   ]
  },
  {
   "cell_type": "code",
   "execution_count": 40,
   "id": "58798cb4-f08c-4d35-948d-250de64b2b21",
   "metadata": {
    "tags": []
   },
   "outputs": [],
   "source": [
    "import seaborn as sns"
   ]
  },
  {
   "cell_type": "code",
   "execution_count": 41,
   "id": "8b318ef6-e52b-4563-922b-ded530718103",
   "metadata": {
    "tags": []
   },
   "outputs": [
    {
     "data": {
      "image/png": "[encoded data removed]",
      "text/plain": [
       "<Figure size 1000x500 with 2 Axes>"
      ]
     },
     "metadata": {},
     "output_type": "display_data"
    }
   ],
   "source": [
    "\n",
    "def getProb(srs):\n",
    "    return len([i for i in srs if i =='Healthy'])  / len(srs)\n",
    "\n",
    "\n",
    "# filter out seasons the player didn't play & season 9 since very few observations\n",
    "p_s = df_long[(df_long.value.isna()==False) &\n",
    "             (df_long.variable <= 6)]\n",
    "\n",
    "# groupby and call our custom aggregate function and count\n",
    "data = p_s.groupby('variable')[['value']].agg([getProb,'count'])\n",
    "data.columns = ['prob','player_seasons']\n",
    "\n",
    "counts = {}\n",
    "for x in career.columns[2:8]:\n",
    "    counts[int(x)] = (len(career[career[x] == 'Healthy']) \n",
    "                      / len(career[career[x].notnull()]))\n",
    "\n",
    "\n",
    "\n",
    "\n",
    "\n",
    "\n",
    "fig, axes = plt.subplots(1,2, sharex=True, figsize=(10,5))\n",
    "axes.flatten() # this makes it easier to reference the specific axes\n",
    "# create the two plots \n",
    "# sns.lineplot(x=data.index, y=data.prob, ax=axes[0])\n",
    "\n",
    "\n",
    "sns.lineplot(x=counts.keys(), y=counts.values(), ax=axes[0])\n",
    "\n",
    "axes[0].set_title(\"Probability of Healthy Season by Player Season Number\",fontsize=10)\n",
    "sns.lineplot(x=data.index, y=data.player_seasons, ax=axes[1])\n",
    "axes[0].set_xlabel(\"Season\",fontsize=8)\n",
    "axes[0].set_ylabel(\"Probability of Healthy Season by Season Number\",fontsize=8)\n",
    "axes[1].set_title(\"Total Players_Seasons by Season Number\",fontsize=10);\n",
    "axes[1].set_xlabel(\"Season\",fontsize=8)\n",
    "axes[1].set_ylabel(\"Number of Player Seasons\",fontsize=8);\n",
    "\n"
   ]
  },
  {
   "cell_type": "markdown",
   "id": "3f324231-aad5-4d94-ace9-2cb3f1caad56",
   "metadata": {},
   "source": [
    "From the left graph, we see a declining trend in the proportion of healthy players over the first three seasons of a player's career. This trend reverses and we see the proportion of healthy players increase. The problem with this interpretation is that the right graph is showing a decline in the number of players in our set across the 6 seasons suggesting that since only the healthy players are able to\n",
    "\n",
    "\n",
    "higher probability of having a healthy season later in a player's careers (if their career allows for it).  A longer career could be the result of the following:\n",
    "1) The player has an above average skillset for their position and has value to the team(s) they play for\n",
    "2) Either in conjunction with #1 or independent of it, as a player gets older, they may receive fewer reps and thus have fewer opportunities to get injured compared to when they were younger.\n",
    "\n",
    "As expected, we see a decreasing player pool for each successive season  "
   ]
  },
  {
   "cell_type": "markdown",
   "id": "8213ea13-8cd1-45fe-a8bc-dc4cac27fa66",
   "metadata": {},
   "source": [
    "### 2.2 Injury Frequency"
   ]
  },
  {
   "cell_type": "markdown",
   "id": "c3bdbf38-2c94-45a2-954d-660c19641a35",
   "metadata": {},
   "source": [
    "Though we've done quite a bit of work in building a career sequence of IR stints for each player, we should also consider each sequence as a sort of itemset of injuries. Itemsets won't address when or in what order an injury occurs but provides insight on frequency and co-occurence with other injuries. Recall the representation of the career dataframe:"
   ]
  },
  {
   "cell_type": "code",
   "execution_count": 42,
   "id": "dbffb523-87e5-4174-b88a-0f73d7cd765a",
   "metadata": {
    "tags": []
   },
   "outputs": [
    {
     "data": {
      "text/html": [
       "<div>\n",
       "<style scoped>\n",
       "    .dataframe tbody tr th:only-of-type {\n",
       "        vertical-align: middle;\n",
       "    }\n",
       "\n",
       "    .dataframe tbody tr th {\n",
       "        vertical-align: top;\n",
       "    }\n",
       "\n",
       "    .dataframe thead th {\n",
       "        text-align: right;\n",
       "    }\n",
       "</style>\n",
       "<table border=\"1\" class=\"dataframe\">\n",
       "  <thead>\n",
       "    <tr style=\"text-align: right;\">\n",
       "      <th></th>\n",
       "      <th>player</th>\n",
       "      <th>position</th>\n",
       "      <th>1</th>\n",
       "      <th>2</th>\n",
       "      <th>3</th>\n",
       "      <th>4</th>\n",
       "      <th>5</th>\n",
       "      <th>6</th>\n",
       "      <th>7</th>\n",
       "      <th>8</th>\n",
       "      <th>9</th>\n",
       "      <th>10</th>\n",
       "      <th>11</th>\n",
       "    </tr>\n",
       "  </thead>\n",
       "  <tbody>\n",
       "    <tr>\n",
       "      <th>1906</th>\n",
       "      <td>Marquez White</td>\n",
       "      <td>DB</td>\n",
       "      <td>Healthy</td>\n",
       "      <td>Healthy</td>\n",
       "      <td>NaN</td>\n",
       "      <td>NaN</td>\n",
       "      <td>NaN</td>\n",
       "      <td>NaN</td>\n",
       "      <td>NaN</td>\n",
       "      <td>NaN</td>\n",
       "      <td>NaN</td>\n",
       "      <td>NaN</td>\n",
       "      <td>NaN</td>\n",
       "    </tr>\n",
       "    <tr>\n",
       "      <th>957</th>\n",
       "      <td>Eric Kendricks</td>\n",
       "      <td>LB</td>\n",
       "      <td>Healthy</td>\n",
       "      <td>Healthy</td>\n",
       "      <td>Healthy</td>\n",
       "      <td>Healthy</td>\n",
       "      <td>Healthy</td>\n",
       "      <td>Healthy</td>\n",
       "      <td>Healthy</td>\n",
       "      <td>Healthy</td>\n",
       "      <td>Healthy</td>\n",
       "      <td>NaN</td>\n",
       "      <td>NaN</td>\n",
       "    </tr>\n",
       "    <tr>\n",
       "      <th>1281</th>\n",
       "      <td>Jauan Jennings</td>\n",
       "      <td>WR</td>\n",
       "      <td>NaN</td>\n",
       "      <td>Healthy</td>\n",
       "      <td>Healthy</td>\n",
       "      <td>Healthy</td>\n",
       "      <td>NaN</td>\n",
       "      <td>NaN</td>\n",
       "      <td>NaN</td>\n",
       "      <td>NaN</td>\n",
       "      <td>NaN</td>\n",
       "      <td>NaN</td>\n",
       "      <td>NaN</td>\n",
       "    </tr>\n",
       "  </tbody>\n",
       "</table>\n",
       "</div>"
      ],
      "text/plain": [
       "              player position        1        2        3        4        5  \\\n",
       "1906   Marquez White       DB  Healthy  Healthy      NaN      NaN      NaN   \n",
       "957   Eric Kendricks       LB  Healthy  Healthy  Healthy  Healthy  Healthy   \n",
       "1281  Jauan Jennings       WR      NaN  Healthy  Healthy  Healthy      NaN   \n",
       "\n",
       "            6        7        8        9   10   11  \n",
       "1906      NaN      NaN      NaN      NaN  NaN  NaN  \n",
       "957   Healthy  Healthy  Healthy  Healthy  NaN  NaN  \n",
       "1281      NaN      NaN      NaN      NaN  NaN  NaN  "
      ]
     },
     "execution_count": 42,
     "metadata": {},
     "output_type": "execute_result"
    }
   ],
   "source": [
    "career.sample(3)"
   ]
  },
  {
   "cell_type": "markdown",
   "id": "572ec7bb-590f-4c92-bcd6-5312556b90d8",
   "metadata": {},
   "source": [
    "We can use sklearn's Multilabelbinarizer to represent the careers as sets (immutable collections of, in this case,  unique injuries).  This approach loses fidelity if we want to see the number of recurring injuries (e.g. repeated knee injuries) but it's valuable for the analysis mentioned above."
   ]
  },
  {
   "cell_type": "code",
   "execution_count": 43,
   "id": "dff15cfd-fab5-47b9-abff-e753ae03f42d",
   "metadata": {
    "tags": []
   },
   "outputs": [],
   "source": [
    "from sklearn.preprocessing import MultiLabelBinarizer"
   ]
  },
  {
   "cell_type": "code",
   "execution_count": 44,
   "id": "28f2175d-b3e9-417d-a3d7-58137eb2578e",
   "metadata": {
    "tags": []
   },
   "outputs": [
    {
     "data": {
      "text/plain": [
       "(2816, 51)"
      ]
     },
     "execution_count": 44,
     "metadata": {},
     "output_type": "execute_result"
    }
   ],
   "source": [
    "cols = [x for x in career.columns[2:]]\n",
    "mlb = MultiLabelBinarizer()\n",
    "\n",
    "# Reduce the dataset only to just the season columns, fill in the nan values with blanks,\n",
    "# transform the data and create a new dataframe where each injury is a column of binary values\n",
    "\n",
    "ir_itms = pd.DataFrame(data=mlb.fit_transform(career[cols].fillna('').values), \n",
    "                                                    columns = mlb.classes_)\n",
    "ir_itms.shape"
   ]
  },
  {
   "cell_type": "code",
   "execution_count": 45,
   "id": "784510f4-1538-4884-ba09-43022a03c9db",
   "metadata": {
    "tags": []
   },
   "outputs": [],
   "source": [
    "# Let's import some libraries that will make our analysis easier...\n",
    "from mlxtend.frequent_patterns import apriori, association_rules"
   ]
  },
  {
   "cell_type": "markdown",
   "id": "f09aa049-a258-41c7-aa52-64f69e51924b",
   "metadata": {},
   "source": [
    "One of the questions we want to understand is frequency of injury.  We get some basic understanding of this question by looking at the relative support of each individual and combination of injuries. For an individual item, relative support is simply the ratio of players who incurred a specific injury"
   ]
  },
  {
   "cell_type": "code",
   "execution_count": 46,
   "id": "09159b0f-0770-4e01-ac00-d7eae78c2f56",
   "metadata": {
    "tags": []
   },
   "outputs": [],
   "source": [
    "def getFrequentItemsets(df, threshold=.01, k=2):\n",
    "    \n",
    "    ''' Takes a binarized dataset and provides an analysis of support based on a specificed threshold \n",
    "    Parameters:\n",
    "    -----------\n",
    "        df - a binarized dataframe\n",
    "        threshold - float (default = .01) The minimum threshold for support. itemset threshold \n",
    "        underneath this value will be filtered out\n",
    "        k - 'int' (default=2) the size of the itemset to filter on\n",
    "        \n",
    "    Returns:\n",
    "    --------\n",
    "        a dataframe containing a itemsets and their relative support from highest to lowest\n",
    "    \n",
    "    '''\n",
    "    \n",
    "    itmst = apriori(df, min_support=threshold, use_colnames=True)\n",
    "    itmst.sort_values(\"support\", ascending=False, inplace=True)\n",
    "    itmst = itmst[itmst['itemsets'].map(len)==k]\n",
    "    return itmst\n",
    "    "
   ]
  },
  {
   "cell_type": "code",
   "execution_count": 47,
   "id": "68af14bf-80dd-4d05-97d8-0b5030a019df",
   "metadata": {
    "tags": []
   },
   "outputs": [
    {
     "name": "stderr",
     "output_type": "stream",
     "text": [
      "/Applications/anaconda3/envs/FFB/lib/python3.11/site-packages/mlxtend/frequent_patterns/fpcommon.py:109: DeprecationWarning: DataFrames with non-bool types result in worse computationalperformance and their support might be discontinued in the future.Please use a DataFrame with bool type\n",
      "  warnings.warn(\n"
     ]
    },
    {
     "data": {
      "text/html": [
       "<div>\n",
       "<style scoped>\n",
       "    .dataframe tbody tr th:only-of-type {\n",
       "        vertical-align: middle;\n",
       "    }\n",
       "\n",
       "    .dataframe tbody tr th {\n",
       "        vertical-align: top;\n",
       "    }\n",
       "\n",
       "    .dataframe thead th {\n",
       "        text-align: right;\n",
       "    }\n",
       "</style>\n",
       "<table border=\"1\" class=\"dataframe\">\n",
       "  <thead>\n",
       "    <tr style=\"text-align: right;\">\n",
       "      <th></th>\n",
       "      <th>support</th>\n",
       "      <th>itemsets</th>\n",
       "    </tr>\n",
       "  </thead>\n",
       "  <tbody>\n",
       "    <tr>\n",
       "      <th>0</th>\n",
       "      <td>0.990412</td>\n",
       "      <td>()</td>\n",
       "    </tr>\n",
       "    <tr>\n",
       "      <th>11</th>\n",
       "      <td>0.954545</td>\n",
       "      <td>(Healthy)</td>\n",
       "    </tr>\n",
       "    <tr>\n",
       "      <th>13</th>\n",
       "      <td>0.186790</td>\n",
       "      <td>(Knee)</td>\n",
       "    </tr>\n",
       "    <tr>\n",
       "      <th>2</th>\n",
       "      <td>0.088778</td>\n",
       "      <td>(Ankle)</td>\n",
       "    </tr>\n",
       "    <tr>\n",
       "      <th>10</th>\n",
       "      <td>0.067472</td>\n",
       "      <td>(Hamstring)</td>\n",
       "    </tr>\n",
       "    <tr>\n",
       "      <th>20</th>\n",
       "      <td>0.055753</td>\n",
       "      <td>(Undisclosed)</td>\n",
       "    </tr>\n",
       "    <tr>\n",
       "      <th>18</th>\n",
       "      <td>0.053977</td>\n",
       "      <td>(Shoulder)</td>\n",
       "    </tr>\n",
       "    <tr>\n",
       "      <th>8</th>\n",
       "      <td>0.049006</td>\n",
       "      <td>(Foot)</td>\n",
       "    </tr>\n",
       "    <tr>\n",
       "      <th>6</th>\n",
       "      <td>0.023438</td>\n",
       "      <td>(Concussion)</td>\n",
       "    </tr>\n",
       "    <tr>\n",
       "      <th>1</th>\n",
       "      <td>0.021662</td>\n",
       "      <td>(Achilles)</td>\n",
       "    </tr>\n",
       "    <tr>\n",
       "      <th>9</th>\n",
       "      <td>0.020241</td>\n",
       "      <td>(Groin)</td>\n",
       "    </tr>\n",
       "    <tr>\n",
       "      <th>3</th>\n",
       "      <td>0.019176</td>\n",
       "      <td>(Back)</td>\n",
       "    </tr>\n",
       "    <tr>\n",
       "      <th>16</th>\n",
       "      <td>0.018821</td>\n",
       "      <td>(Pectoral)</td>\n",
       "    </tr>\n",
       "    <tr>\n",
       "      <th>14</th>\n",
       "      <td>0.016690</td>\n",
       "      <td>(Leg)</td>\n",
       "    </tr>\n",
       "    <tr>\n",
       "      <th>5</th>\n",
       "      <td>0.015980</td>\n",
       "      <td>(Calf)</td>\n",
       "    </tr>\n",
       "    <tr>\n",
       "      <th>12</th>\n",
       "      <td>0.011719</td>\n",
       "      <td>(Hip)</td>\n",
       "    </tr>\n",
       "    <tr>\n",
       "      <th>17</th>\n",
       "      <td>0.011364</td>\n",
       "      <td>(Quadriceps)</td>\n",
       "    </tr>\n",
       "    <tr>\n",
       "      <th>7</th>\n",
       "      <td>0.011009</td>\n",
       "      <td>(Elbow)</td>\n",
       "    </tr>\n",
       "    <tr>\n",
       "      <th>15</th>\n",
       "      <td>0.011009</td>\n",
       "      <td>(Neck)</td>\n",
       "    </tr>\n",
       "    <tr>\n",
       "      <th>4</th>\n",
       "      <td>0.010653</td>\n",
       "      <td>(Biceps)</td>\n",
       "    </tr>\n",
       "    <tr>\n",
       "      <th>19</th>\n",
       "      <td>0.010298</td>\n",
       "      <td>(Toe)</td>\n",
       "    </tr>\n",
       "  </tbody>\n",
       "</table>\n",
       "</div>"
      ],
      "text/plain": [
       "     support       itemsets\n",
       "0   0.990412             ()\n",
       "11  0.954545      (Healthy)\n",
       "13  0.186790         (Knee)\n",
       "2   0.088778        (Ankle)\n",
       "10  0.067472    (Hamstring)\n",
       "20  0.055753  (Undisclosed)\n",
       "18  0.053977     (Shoulder)\n",
       "8   0.049006         (Foot)\n",
       "6   0.023438   (Concussion)\n",
       "1   0.021662     (Achilles)\n",
       "9   0.020241        (Groin)\n",
       "3   0.019176         (Back)\n",
       "16  0.018821     (Pectoral)\n",
       "14  0.016690          (Leg)\n",
       "5   0.015980         (Calf)\n",
       "12  0.011719          (Hip)\n",
       "17  0.011364   (Quadriceps)\n",
       "7   0.011009        (Elbow)\n",
       "15  0.011009         (Neck)\n",
       "4   0.010653       (Biceps)\n",
       "19  0.010298          (Toe)"
      ]
     },
     "execution_count": 47,
     "metadata": {},
     "output_type": "execute_result"
    }
   ],
   "source": [
    "# Let's first look at the support for individual items...we'll use length of 1\n",
    "ir_freq_sets = getFrequentItemsets(ir_itms, threshold=.01, k=1)\n",
    "ir_freq_sets"
   ]
  },
  {
   "cell_type": "markdown",
   "id": "ca05b6d6-860e-4130-8093-1b06750369f0",
   "metadata": {},
   "source": [
    "Ignoring the blanks (they represent the seasons AFTER a player's career ended and are meaningless to us) we see 97% of drafted players had at least one \"Healthy\" season.  Remember, this analysis only factors those cases where a player landed on IR but omits non-IR related injuries (cases where a player might've sat out 1 or a few games).\n",
    "\n",
    "IR Injuries related to Knees appear to be the most common by quite a large margin. Over 20% of our sample had at least one knee injury.  If you're a fantasy pro, this makes sense and a player incurring a knee injury mid-season is disasterous for both the player and your season esp. if it's an ACL tear.  \n",
    "\n",
    "The next 2 of 3 are related to lower body injuries: ankle (9%) and hamstring (7%) injuries. We can't derive a lot of information in 'Undisclosed info' as that could be any body part/condition. \n",
    "\n",
    "We see the remainder of injuries above our threshold being a mix of upper body and lower body afflictions.\n",
    "\n",
    "Now, let's dig a little deeper and see which injuries co-occur frequently in football players' careers:"
   ]
  },
  {
   "cell_type": "code",
   "execution_count": 48,
   "id": "7ea8755d-5653-44c4-a9a8-ace4c547be12",
   "metadata": {
    "tags": []
   },
   "outputs": [
    {
     "name": "stderr",
     "output_type": "stream",
     "text": [
      "/Applications/anaconda3/envs/FFB/lib/python3.11/site-packages/mlxtend/frequent_patterns/fpcommon.py:109: DeprecationWarning: DataFrames with non-bool types result in worse computationalperformance and their support might be discontinued in the future.Please use a DataFrame with bool type\n",
      "  warnings.warn(\n"
     ]
    },
    {
     "data": {
      "text/html": [
       "<div>\n",
       "<style scoped>\n",
       "    .dataframe tbody tr th:only-of-type {\n",
       "        vertical-align: middle;\n",
       "    }\n",
       "\n",
       "    .dataframe tbody tr th {\n",
       "        vertical-align: top;\n",
       "    }\n",
       "\n",
       "    .dataframe thead th {\n",
       "        text-align: right;\n",
       "    }\n",
       "</style>\n",
       "<table border=\"1\" class=\"dataframe\">\n",
       "  <thead>\n",
       "    <tr style=\"text-align: right;\">\n",
       "      <th></th>\n",
       "      <th>support</th>\n",
       "      <th>itemsets</th>\n",
       "    </tr>\n",
       "  </thead>\n",
       "  <tbody>\n",
       "    <tr>\n",
       "      <th>97</th>\n",
       "      <td>0.019176</td>\n",
       "      <td>(Ankle, Knee)</td>\n",
       "    </tr>\n",
       "    <tr>\n",
       "      <th>152</th>\n",
       "      <td>0.014560</td>\n",
       "      <td>(Hamstring, Knee)</td>\n",
       "    </tr>\n",
       "    <tr>\n",
       "      <th>186</th>\n",
       "      <td>0.010653</td>\n",
       "      <td>(Shoulder, Knee)</td>\n",
       "    </tr>\n",
       "    <tr>\n",
       "      <th>101</th>\n",
       "      <td>0.007457</td>\n",
       "      <td>(Undisclosed, Ankle)</td>\n",
       "    </tr>\n",
       "    <tr>\n",
       "      <th>140</th>\n",
       "      <td>0.007102</td>\n",
       "      <td>(Foot, Knee)</td>\n",
       "    </tr>\n",
       "    <tr>\n",
       "      <th>189</th>\n",
       "      <td>0.006747</td>\n",
       "      <td>(Undisclosed, Knee)</td>\n",
       "    </tr>\n",
       "    <tr>\n",
       "      <th>155</th>\n",
       "      <td>0.006392</td>\n",
       "      <td>(Hamstring, Shoulder)</td>\n",
       "    </tr>\n",
       "    <tr>\n",
       "      <th>99</th>\n",
       "      <td>0.006037</td>\n",
       "      <td>(Shoulder, Ankle)</td>\n",
       "    </tr>\n",
       "    <tr>\n",
       "      <th>94</th>\n",
       "      <td>0.006037</td>\n",
       "      <td>(Hamstring, Ankle)</td>\n",
       "    </tr>\n",
       "    <tr>\n",
       "      <th>92</th>\n",
       "      <td>0.005682</td>\n",
       "      <td>(Foot, Ankle)</td>\n",
       "    </tr>\n",
       "    <tr>\n",
       "      <th>86</th>\n",
       "      <td>0.005327</td>\n",
       "      <td>(Achilles, Knee)</td>\n",
       "    </tr>\n",
       "    <tr>\n",
       "      <th>183</th>\n",
       "      <td>0.004972</td>\n",
       "      <td>(Pectoral, Knee)</td>\n",
       "    </tr>\n",
       "    <tr>\n",
       "      <th>143</th>\n",
       "      <td>0.004616</td>\n",
       "      <td>(Undisclosed, Foot)</td>\n",
       "    </tr>\n",
       "    <tr>\n",
       "      <th>126</th>\n",
       "      <td>0.004261</td>\n",
       "      <td>(Concussion, Knee)</td>\n",
       "    </tr>\n",
       "    <tr>\n",
       "      <th>142</th>\n",
       "      <td>0.003906</td>\n",
       "      <td>(Foot, Shoulder)</td>\n",
       "    </tr>\n",
       "    <tr>\n",
       "      <th>148</th>\n",
       "      <td>0.003906</td>\n",
       "      <td>(Groin, Knee)</td>\n",
       "    </tr>\n",
       "    <tr>\n",
       "      <th>156</th>\n",
       "      <td>0.003906</td>\n",
       "      <td>(Undisclosed, Hamstring)</td>\n",
       "    </tr>\n",
       "    <tr>\n",
       "      <th>107</th>\n",
       "      <td>0.003906</td>\n",
       "      <td>(Back, Knee)</td>\n",
       "    </tr>\n",
       "    <tr>\n",
       "      <th>134</th>\n",
       "      <td>0.003551</td>\n",
       "      <td>(Elbow, Knee)</td>\n",
       "    </tr>\n",
       "    <tr>\n",
       "      <th>138</th>\n",
       "      <td>0.003551</td>\n",
       "      <td>(Hamstring, Foot)</td>\n",
       "    </tr>\n",
       "    <tr>\n",
       "      <th>146</th>\n",
       "      <td>0.003196</td>\n",
       "      <td>(Hamstring, Groin)</td>\n",
       "    </tr>\n",
       "    <tr>\n",
       "      <th>184</th>\n",
       "      <td>0.003196</td>\n",
       "      <td>(Quadriceps, Knee)</td>\n",
       "    </tr>\n",
       "    <tr>\n",
       "      <th>188</th>\n",
       "      <td>0.003196</td>\n",
       "      <td>(Toe, Knee)</td>\n",
       "    </tr>\n",
       "    <tr>\n",
       "      <th>117</th>\n",
       "      <td>0.002841</td>\n",
       "      <td>(Calf, Knee)</td>\n",
       "    </tr>\n",
       "    <tr>\n",
       "      <th>179</th>\n",
       "      <td>0.002841</td>\n",
       "      <td>(Hip, Knee)</td>\n",
       "    </tr>\n",
       "  </tbody>\n",
       "</table>\n",
       "</div>"
      ],
      "text/plain": [
       "      support                  itemsets\n",
       "97   0.019176             (Ankle, Knee)\n",
       "152  0.014560         (Hamstring, Knee)\n",
       "186  0.010653          (Shoulder, Knee)\n",
       "101  0.007457      (Undisclosed, Ankle)\n",
       "140  0.007102              (Foot, Knee)\n",
       "189  0.006747       (Undisclosed, Knee)\n",
       "155  0.006392     (Hamstring, Shoulder)\n",
       "99   0.006037         (Shoulder, Ankle)\n",
       "94   0.006037        (Hamstring, Ankle)\n",
       "92   0.005682             (Foot, Ankle)\n",
       "86   0.005327          (Achilles, Knee)\n",
       "183  0.004972          (Pectoral, Knee)\n",
       "143  0.004616       (Undisclosed, Foot)\n",
       "126  0.004261        (Concussion, Knee)\n",
       "142  0.003906          (Foot, Shoulder)\n",
       "148  0.003906             (Groin, Knee)\n",
       "156  0.003906  (Undisclosed, Hamstring)\n",
       "107  0.003906              (Back, Knee)\n",
       "134  0.003551             (Elbow, Knee)\n",
       "138  0.003551         (Hamstring, Foot)\n",
       "146  0.003196        (Hamstring, Groin)\n",
       "184  0.003196        (Quadriceps, Knee)\n",
       "188  0.003196               (Toe, Knee)\n",
       "117  0.002841              (Calf, Knee)\n",
       "179  0.002841               (Hip, Knee)"
      ]
     },
     "execution_count": 48,
     "metadata": {},
     "output_type": "execute_result"
    }
   ],
   "source": [
    "# Since we're dealing with 2-frequent itemsets, I'm going to lower the threshold\n",
    "ir_freq_sets = getFrequentItemsets(ir_itms, threshold=.001, k=2)\n",
    "\n",
    "# I want to focus specifically on 2-itemsets and want to filter out Healthy and blanks for obvious reasons\n",
    "ir_freq_sets[(ir_freq_sets['itemsets'].apply(lambda x: False if \"Healthy\" in x else True)) &\n",
    "            (ir_freq_sets['itemsets'].apply(lambda x: False if \"\" in x else True))][:25]"
   ]
  },
  {
   "cell_type": "code",
   "execution_count": 60,
   "id": "e025ec9a-082b-44c9-a52c-cd7278ceb49a",
   "metadata": {
    "tags": []
   },
   "outputs": [
    {
     "name": "stdout",
     "output_type": "stream",
     "text": [
      "Total Count of Unique Players: 2816\n"
     ]
    }
   ],
   "source": [
    "tot_players = len(career.groupby(['player','position'])['1'].count())\n",
    "print(f\"Total Count of Unique Players: {tot_players}\")"
   ]
  },
  {
   "cell_type": "markdown",
   "id": "bae965da-b862-49ff-8e21-aac251a2bfa3",
   "metadata": {},
   "source": [
    "Interestingly, we see that Knee and Ankle injuries are the most frequently occurring pair of ir-injuries in a player's career, regardless of career length.  This makes sense since an injury to one, could alter the mechanics of a player's movements and lead to the second injury.  Since we're dealing with itemsets, the order is not relevant here, just the pairings.  We'll see later on which injury is more likely to occur first.\n",
    "\n",
    "we see some sort of pairing of knee and other related injuries in 6 of the top 10 pairings. Further validating the notion that knees are the champions of the Gridiron Gurney.\n",
    "\n",
    "Despite the league's focus on Concussions (which is appropriate concerning their severity), it's still the lower appendages that bear the highest volume. \n",
    "\n",
    "Just to be sure our numbers are correct - we see that clsoe to 2% of players have both Knee and Ankle IR stints sometime during their career - we can do some quick math (2816 players multipled by .0196... is roughly 55ish cases). We can validate this against the career dataframe by running some quick filters:"
   ]
  },
  {
   "cell_type": "code",
   "execution_count": 62,
   "id": "ef06c3d5-26e1-4829-afaa-3c26ffca0165",
   "metadata": {
    "tags": []
   },
   "outputs": [
    {
     "name": "stdout",
     "output_type": "stream",
     "text": [
      "Number of co-occurrences of Ankle and Knee IR Stints: 54\n"
     ]
    }
   ],
   "source": [
    "num_ank_knees = len(career[(career.isin(['Knee']).any(axis=1)) &\n",
    "      (career.isin(['Ankle']).any(axis=1))])\n",
    "\n",
    "\n",
    "print(f\"Number of co-occurrences of Ankle and Knee IR Stints: {num_ank_knees}\")"
   ]
  },
  {
   "cell_type": "code",
   "execution_count": null,
   "id": "e1c073b6-04f3-4500-bc86-c006db23ed94",
   "metadata": {
    "tags": []
   },
   "outputs": [],
   "source": []
  },
  {
   "cell_type": "code",
   "execution_count": null,
   "id": "50db1e88-12db-41f9-9712-fd78bdd90bb2",
   "metadata": {},
   "outputs": [],
   "source": []
  },
  {
   "cell_type": "code",
   "execution_count": null,
   "id": "6c46800b-9a84-43a8-a6b6-650c45f55172",
   "metadata": {},
   "outputs": [],
   "source": []
  }
 ],
 "metadata": {
  "kernelspec": {
   "display_name": "Python 3 (ipykernel)",
   "language": "python",
   "name": "python3"
  },
  "language_info": {
   "codemirror_mode": {
    "name": "ipython",
    "version": 3
   },
   "file_extension": ".py",
   "mimetype": "text/x-python",
   "name": "python",
   "nbconvert_exporter": "python",
   "pygments_lexer": "ipython3",
   "version": "3.11.4"
  }
 },
 "nbformat": 4,
 "nbformat_minor": 5
}
