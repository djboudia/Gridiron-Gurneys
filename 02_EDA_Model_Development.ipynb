{
 "cells": [
  {
   "cell_type": "markdown",
   "id": "88e41c76-efb2-4d3d-bd70-71201312ee92",
   "metadata": {},
   "source": [
    "## 2.0 Exploratory Data Analysis ##"
   ]
  },
  {
   "cell_type": "code",
   "execution_count": 103,
   "id": "023cf4f0-6220-4f1c-a0ab-095667ae7a83",
   "metadata": {},
   "outputs": [],
   "source": [
    "import pandas as pd\n",
    "import numpy as np\n",
    "import matplotlib.pyplot as plt"
   ]
  },
  {
   "cell_type": "code",
   "execution_count": 83,
   "id": "54cfdc4f-43dd-4291-8ed6-303e61c5fbd0",
   "metadata": {},
   "outputs": [],
   "source": [
    "career = pd.read_csv('ir_career.csv')"
   ]
  },
  {
   "cell_type": "markdown",
   "id": "d76f6b0b-1be5-4b8d-a6cb-9e6f8bf458fa",
   "metadata": {},
   "source": [
    "So far,  we've been able to create a representation of each player's career as a vector of Injuries (or Status of 'Healthy') where each item in the vector corresponds to the season number of their career.  Season Numbers provide us a convenient way to measure the veteranness of a player. Our assumption is that as a player accummulates more seasons, they more than likely will have a higher probability of incurring an IR injury. The higher the probability for injury, the less likely we'll be to draft them in the early rounds and wait for the risk/reward to be more palatable.\n",
    "\n",
    "Before we delve into player details, let's see if we can glean some insights on overall probabilities for specific injuries by season_number.  this will be aggregated over all 700+ players.  This will tell us which injuries are likely to occur early on in a player's career and which may occur later (we'll separate out by position to see if that has any importance)\n"
   ]
  },
  {
   "cell_type": "markdown",
   "id": "df0fccc5-9ead-4457-b62a-e88cb0a2227c",
   "metadata": {},
   "source": [
    "### 2.1 Put Some Heat on That"
   ]
  },
  {
   "cell_type": "code",
   "execution_count": 84,
   "id": "1287d300-22ec-4a1b-ae1e-82fee8f3a672",
   "metadata": {},
   "outputs": [
    {
     "data": {
      "text/plain": [
       "WR    285\n",
       "RB    207\n",
       "TE    131\n",
       "QB    103\n",
       "Name: position, dtype: int64"
      ]
     },
     "execution_count": 84,
     "metadata": {},
     "output_type": "execute_result"
    }
   ],
   "source": [
    "# Let's get some quick summary statistics on how many players we have for each position:\n",
    "\n",
    "career.position.value_counts()"
   ]
  },
  {
   "cell_type": "code",
   "execution_count": 88,
   "id": "86a82753-036a-493b-a178-d9d85562aea2",
   "metadata": {},
   "outputs": [],
   "source": [
    "# This makes sense - WRs and RBs are a deeper position compared to QB and TE. Let's see what the career length distributions are by position. \n",
    "# First, let's split the career df into the 4 positions.\n",
    "\n",
    "rb = career[career['position']=='RB']\n",
    "wr = career[career['position']=='WR']\n",
    "qb = career[career['position']=='QB']\n",
    "te = career[career['position']=='TE']\n",
    "\n",
    "# make a list of dfs for easy iteration\n",
    "dict_df = {'rb':rb,\n",
    "           'wr': wr,\n",
    "           'qb':qb,\n",
    "           'te': te}"
   ]
  },
  {
   "cell_type": "code",
   "execution_count": 91,
   "id": "f7ad5521-f663-4388-8bab-dc572638b57b",
   "metadata": {},
   "outputs": [],
   "source": [
    "def getTotalCareerSeasons(df):\n",
    "    \n",
    "    df_long = df.melt(id_vars='player',\n",
    "                  value_vars=[str(x) for x in range(1,10)])\n",
    "    df_long.dropna(inplace=True)\n",
    "    df_long  = df_long.groupby('player')['variable'].agg('count')\n",
    "    obj =  df_long.value_counts().sort_index().to_dict()\n",
    "    return obj\n",
    "\n",
    "\n",
    "pos_seasons = {}\n",
    "for position in dict_df.keys():\n",
    "    counts  = getTotalCareerSeasons(dict_df[position])\n",
    "    pos_seasons[position] = counts\n",
    "    # pos_seasons.append(counts)\n"
   ]
  },
  {
   "cell_type": "code",
   "execution_count": 102,
   "id": "c3d00152-a65d-45c1-bcd2-613e35cd427f",
   "metadata": {},
   "outputs": [
    {
     "data": {
      "text/html": [
       "<div>\n",
       "<style scoped>\n",
       "    .dataframe tbody tr th:only-of-type {\n",
       "        vertical-align: middle;\n",
       "    }\n",
       "\n",
       "    .dataframe tbody tr th {\n",
       "        vertical-align: top;\n",
       "    }\n",
       "\n",
       "    .dataframe thead th {\n",
       "        text-align: right;\n",
       "    }\n",
       "</style>\n",
       "<table border=\"1\" class=\"dataframe\">\n",
       "  <thead>\n",
       "    <tr style=\"text-align: right;\">\n",
       "      <th></th>\n",
       "      <th>1</th>\n",
       "      <th>2</th>\n",
       "      <th>3</th>\n",
       "      <th>4</th>\n",
       "      <th>5</th>\n",
       "      <th>6</th>\n",
       "      <th>7</th>\n",
       "      <th>8</th>\n",
       "      <th>9</th>\n",
       "    </tr>\n",
       "  </thead>\n",
       "  <tbody>\n",
       "    <tr>\n",
       "      <th>rb</th>\n",
       "      <td>22.0</td>\n",
       "      <td>26.0</td>\n",
       "      <td>32.0</td>\n",
       "      <td>27.0</td>\n",
       "      <td>31.0</td>\n",
       "      <td>25.0</td>\n",
       "      <td>19.0</td>\n",
       "      <td>24.0</td>\n",
       "      <td>1.0</td>\n",
       "    </tr>\n",
       "    <tr>\n",
       "      <th>wr</th>\n",
       "      <td>36.0</td>\n",
       "      <td>42.0</td>\n",
       "      <td>40.0</td>\n",
       "      <td>45.0</td>\n",
       "      <td>37.0</td>\n",
       "      <td>30.0</td>\n",
       "      <td>28.0</td>\n",
       "      <td>24.0</td>\n",
       "      <td>3.0</td>\n",
       "    </tr>\n",
       "    <tr>\n",
       "      <th>qb</th>\n",
       "      <td>10.0</td>\n",
       "      <td>16.0</td>\n",
       "      <td>13.0</td>\n",
       "      <td>17.0</td>\n",
       "      <td>14.0</td>\n",
       "      <td>13.0</td>\n",
       "      <td>7.0</td>\n",
       "      <td>13.0</td>\n",
       "      <td>NaN</td>\n",
       "    </tr>\n",
       "    <tr>\n",
       "      <th>te</th>\n",
       "      <td>13.0</td>\n",
       "      <td>14.0</td>\n",
       "      <td>22.0</td>\n",
       "      <td>20.0</td>\n",
       "      <td>18.0</td>\n",
       "      <td>11.0</td>\n",
       "      <td>17.0</td>\n",
       "      <td>14.0</td>\n",
       "      <td>2.0</td>\n",
       "    </tr>\n",
       "  </tbody>\n",
       "</table>\n",
       "</div>"
      ],
      "text/plain": [
       "       1     2     3     4     5     6     7     8    9\n",
       "rb  22.0  26.0  32.0  27.0  31.0  25.0  19.0  24.0  1.0\n",
       "wr  36.0  42.0  40.0  45.0  37.0  30.0  28.0  24.0  3.0\n",
       "qb  10.0  16.0  13.0  17.0  14.0  13.0   7.0  13.0  NaN\n",
       "te  13.0  14.0  22.0  20.0  18.0  11.0  17.0  14.0  2.0"
      ]
     },
     "execution_count": 102,
     "metadata": {},
     "output_type": "execute_result"
    }
   ],
   "source": [
    "pd.DataFrame(pos_seasons).T"
   ]
  },
  {
   "cell_type": "code",
   "execution_count": 143,
   "id": "ef9da700-7160-46fa-8805-f175598de4bf",
   "metadata": {},
   "outputs": [
    {
     "data": {
      "image/png": "[encoded data removed]",
      "text/plain": [
       "<Figure size 1440x864 with 4 Axes>"
      ]
     },
     "metadata": {
      "needs_background": "light"
     },
     "output_type": "display_data"
    }
   ],
   "source": [
    "fig, axes = plt.subplots(2, 2, sharex=True, sharey=False, figsize=(20,12))\n",
    "\n",
    "axes = axes.flatten()\n",
    "for idx, position in enumerate(pos_seasons):\n",
    "    values = pos_seasons[position].values()\n",
    "    x = pos_seasons[position].keys()\n",
    "    axes[idx].bar(x,values)\n",
    "    axes[idx].set_title(position.upper())\n",
    "plt.show()"
   ]
  },
  {
   "cell_type": "markdown",
   "id": "9b6f5e7f-eac4-464c-a840-54a0366cfe3e",
   "metadata": {},
   "source": [
    "Either based on the table or the "
   ]
  },
  {
   "cell_type": "code",
   "execution_count": 72,
   "id": "40be18a9-871b-499a-9bd8-f4af275ef99c",
   "metadata": {},
   "outputs": [
    {
     "ename": "AttributeError",
     "evalue": "'dict' object has no attribute 'sort_keys'",
     "output_type": "error",
     "traceback": [
      "\u001b[0;31m---------------------------------------------------------------------------\u001b[0m",
      "\u001b[0;31mAttributeError\u001b[0m                            Traceback (most recent call last)",
      "Input \u001b[0;32mIn [72]\u001b[0m, in \u001b[0;36m<cell line: 5>\u001b[0;34m()\u001b[0m\n\u001b[1;32m      3\u001b[0m df_long\u001b[38;5;241m.\u001b[39mdropna(inplace\u001b[38;5;241m=\u001b[39m\u001b[38;5;28;01mTrue\u001b[39;00m)\n\u001b[1;32m      4\u001b[0m df_long  \u001b[38;5;241m=\u001b[39m df_long\u001b[38;5;241m.\u001b[39mgroupby(\u001b[38;5;124m'\u001b[39m\u001b[38;5;124mplayer\u001b[39m\u001b[38;5;124m'\u001b[39m)[\u001b[38;5;124m'\u001b[39m\u001b[38;5;124mvariable\u001b[39m\u001b[38;5;124m'\u001b[39m]\u001b[38;5;241m.\u001b[39magg(\u001b[38;5;124m'\u001b[39m\u001b[38;5;124mcount\u001b[39m\u001b[38;5;124m'\u001b[39m)\n\u001b[0;32m----> 5\u001b[0m \u001b[43mdf_long\u001b[49m\u001b[38;5;241;43m.\u001b[39;49m\u001b[43mvalue_counts\u001b[49m\u001b[43m(\u001b[49m\u001b[43m)\u001b[49m\u001b[38;5;241;43m.\u001b[39;49m\u001b[43mto_dict\u001b[49m\u001b[43m(\u001b[49m\u001b[43m)\u001b[49m\u001b[38;5;241;43m.\u001b[39;49m\u001b[43msort_keys\u001b[49m()\n",
      "\u001b[0;31mAttributeError\u001b[0m: 'dict' object has no attribute 'sort_keys'"
     ]
    }
   ],
   "source": [
    "df_long = rb.melt(id_vars='player',\n",
    "                  value_vars=[str(x) for x in range(1,10)])\n",
    "df_long.dropna(inplace=True)\n",
    "df_long  = df_long.groupby('player')['variable'].agg('count')\n",
    "df_long.value_counts().to_dict()"
   ]
  },
  {
   "cell_type": "code",
   "execution_count": 62,
   "id": "ba6a69bd-645f-41d0-aa70-7aa365a76548",
   "metadata": {},
   "outputs": [
    {
     "data": {
      "text/plain": [
       "{8: 47, 5: 28, 3: 25, 7: 23, 4: 23, 6: 22, 1: 21, 2: 17, 9: 1}"
      ]
     },
     "execution_count": 62,
     "metadata": {},
     "output_type": "execute_result"
    }
   ],
   "source": []
  },
  {
   "cell_type": "code",
   "execution_count": null,
   "id": "31e6a3a3-ba59-47f9-be68-9903829a1c29",
   "metadata": {},
   "outputs": [],
   "source": []
  }
 ],
 "metadata": {
  "kernelspec": {
   "display_name": "Python 3 (ipykernel)",
   "language": "python",
   "name": "python3"
  },
  "language_info": {
   "codemirror_mode": {
    "name": "ipython",
    "version": 3
   },
   "file_extension": ".py",
   "mimetype": "text/x-python",
   "name": "python",
   "nbconvert_exporter": "python",
   "pygments_lexer": "ipython3",
   "version": "3.9.12"
  }
 },
 "nbformat": 4,
 "nbformat_minor": 5
}
