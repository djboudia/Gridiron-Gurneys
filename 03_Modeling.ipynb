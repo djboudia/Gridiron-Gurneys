{
 "cells": [
  {
   "cell_type": "markdown",
   "id": "e983ffb2-88d0-431e-a1ed-e45f4d587ca9",
   "metadata": {},
   "source": [
    "## 3 Markov Chain Model"
   ]
  },
  {
   "cell_type": "markdown",
   "id": "9b1beafe-b8e3-4579-abc9-0b3219a354c6",
   "metadata": {},
   "source": [
    "In this section we'll explore a simple statistical language model to estimate the likelihood of a particular injury occurring based on a player's prior injured reserve history (or lack thereof).  Our data and subsequent model are based solely on words describing injuries over their careers and no other statistics associated with the player's career. Ideally, we'll be able to build more elaborate models in later stages using more advanced features with more predictive power than words and can be predictive to the player vs predictive of the population, but we'll start with this simple approach."
   ]
  },
  {
   "cell_type": "code",
   "execution_count": 59,
   "id": "08d9bffb-0c89-48e8-a63e-a9a862bbfe3f",
   "metadata": {
    "tags": []
   },
   "outputs": [],
   "source": [
    "from nltk import ngrams\n",
    "import pandas as pd\n",
    "import json\n",
    "import requests\n",
    "from mlxtend.frequent_patterns import apriori, association_rules\n",
    "from sklearn.preprocessing import MultiLabelBinarizer\n",
    "import pickle\n",
    "from nltk.util import pad_sequence\n",
    "from nltk.lm.preprocessing import pad_both_ends"
   ]
  },
  {
   "cell_type": "code",
   "execution_count": 3,
   "id": "49e1b4d8-5c74-48bd-886a-ecf10eb7775c",
   "metadata": {
    "tags": []
   },
   "outputs": [],
   "source": [
    "career = pd.read_csv('data/all_pos_ir_career.csv')\n",
    "df_long = pd.read_csv('data/df_long.csv',sep='|')"
   ]
  },
  {
   "cell_type": "code",
   "execution_count": 60,
   "id": "2da54450-5613-4e84-83cc-aa85330a0a6d",
   "metadata": {
    "tags": []
   },
   "outputs": [
    {
     "data": {
      "text/html": [
       "<div>\n",
       "<style scoped>\n",
       "    .dataframe tbody tr th:only-of-type {\n",
       "        vertical-align: middle;\n",
       "    }\n",
       "\n",
       "    .dataframe tbody tr th {\n",
       "        vertical-align: top;\n",
       "    }\n",
       "\n",
       "    .dataframe thead th {\n",
       "        text-align: right;\n",
       "    }\n",
       "</style>\n",
       "<table border=\"1\" class=\"dataframe\">\n",
       "  <thead>\n",
       "    <tr style=\"text-align: right;\">\n",
       "      <th></th>\n",
       "      <th>player</th>\n",
       "      <th>position</th>\n",
       "      <th>1</th>\n",
       "      <th>2</th>\n",
       "      <th>3</th>\n",
       "      <th>4</th>\n",
       "      <th>5</th>\n",
       "      <th>6</th>\n",
       "      <th>7</th>\n",
       "      <th>8</th>\n",
       "      <th>9</th>\n",
       "    </tr>\n",
       "  </thead>\n",
       "  <tbody>\n",
       "    <tr>\n",
       "      <th>0</th>\n",
       "      <td>A'Shawn Robinson</td>\n",
       "      <td>DT</td>\n",
       "      <td>Healthy</td>\n",
       "      <td>Healthy</td>\n",
       "      <td>Knee</td>\n",
       "      <td>Healthy</td>\n",
       "      <td>Healthy</td>\n",
       "      <td>Healthy</td>\n",
       "      <td>NaN</td>\n",
       "      <td>NaN</td>\n",
       "      <td>NaN</td>\n",
       "    </tr>\n",
       "    <tr>\n",
       "      <th>1</th>\n",
       "      <td>A.J. Brown</td>\n",
       "      <td>WR</td>\n",
       "      <td>Healthy</td>\n",
       "      <td>Healthy</td>\n",
       "      <td>Chest</td>\n",
       "      <td>NaN</td>\n",
       "      <td>NaN</td>\n",
       "      <td>NaN</td>\n",
       "      <td>NaN</td>\n",
       "      <td>NaN</td>\n",
       "      <td>NaN</td>\n",
       "    </tr>\n",
       "    <tr>\n",
       "      <th>2</th>\n",
       "      <td>A.J. Cann</td>\n",
       "      <td>OG</td>\n",
       "      <td>Healthy</td>\n",
       "      <td>Healthy</td>\n",
       "      <td>Healthy</td>\n",
       "      <td>Healthy</td>\n",
       "      <td>Healthy</td>\n",
       "      <td>Healthy</td>\n",
       "      <td>Knee</td>\n",
       "      <td>NaN</td>\n",
       "      <td>NaN</td>\n",
       "    </tr>\n",
       "    <tr>\n",
       "      <th>3</th>\n",
       "      <td>A.J. Derby</td>\n",
       "      <td>TE</td>\n",
       "      <td>Undisclosed</td>\n",
       "      <td>Healthy</td>\n",
       "      <td>Shoulder</td>\n",
       "      <td>Foot</td>\n",
       "      <td>Healthy</td>\n",
       "      <td>Healthy</td>\n",
       "      <td>Healthy</td>\n",
       "      <td>NaN</td>\n",
       "      <td>NaN</td>\n",
       "    </tr>\n",
       "    <tr>\n",
       "      <th>4</th>\n",
       "      <td>A.J. Epenesa</td>\n",
       "      <td>DE</td>\n",
       "      <td>Healthy</td>\n",
       "      <td>Healthy</td>\n",
       "      <td>NaN</td>\n",
       "      <td>NaN</td>\n",
       "      <td>NaN</td>\n",
       "      <td>NaN</td>\n",
       "      <td>NaN</td>\n",
       "      <td>NaN</td>\n",
       "      <td>NaN</td>\n",
       "    </tr>\n",
       "  </tbody>\n",
       "</table>\n",
       "</div>"
      ],
      "text/plain": [
       "             player position            1        2         3        4  \\\n",
       "0  A'Shawn Robinson       DT      Healthy  Healthy      Knee  Healthy   \n",
       "1        A.J. Brown       WR      Healthy  Healthy     Chest      NaN   \n",
       "2         A.J. Cann       OG      Healthy  Healthy   Healthy  Healthy   \n",
       "3        A.J. Derby       TE  Undisclosed  Healthy  Shoulder     Foot   \n",
       "4      A.J. Epenesa       DE      Healthy  Healthy       NaN      NaN   \n",
       "\n",
       "         5        6        7    8    9  \n",
       "0  Healthy  Healthy      NaN  NaN  NaN  \n",
       "1      NaN      NaN      NaN  NaN  NaN  \n",
       "2  Healthy  Healthy     Knee  NaN  NaN  \n",
       "3  Healthy  Healthy  Healthy  NaN  NaN  \n",
       "4      NaN      NaN      NaN  NaN  NaN  "
      ]
     },
     "execution_count": 60,
     "metadata": {},
     "output_type": "execute_result"
    }
   ],
   "source": [
    "career.head()"
   ]
  },
  {
   "cell_type": "code",
   "execution_count": 4,
   "id": "4cd53208-bcd5-407d-90e6-20fab145a9ed",
   "metadata": {
    "tags": []
   },
   "outputs": [
    {
     "data": {
      "text/html": [
       "<div>\n",
       "<style scoped>\n",
       "    .dataframe tbody tr th:only-of-type {\n",
       "        vertical-align: middle;\n",
       "    }\n",
       "\n",
       "    .dataframe tbody tr th {\n",
       "        vertical-align: top;\n",
       "    }\n",
       "\n",
       "    .dataframe thead th {\n",
       "        text-align: right;\n",
       "    }\n",
       "</style>\n",
       "<table border=\"1\" class=\"dataframe\">\n",
       "  <thead>\n",
       "    <tr style=\"text-align: right;\">\n",
       "      <th></th>\n",
       "      <th>player</th>\n",
       "      <th>position</th>\n",
       "      <th>variable</th>\n",
       "      <th>value</th>\n",
       "    </tr>\n",
       "  </thead>\n",
       "  <tbody>\n",
       "    <tr>\n",
       "      <th>0</th>\n",
       "      <td>A.J. Brown</td>\n",
       "      <td>WR</td>\n",
       "      <td>1</td>\n",
       "      <td>Healthy</td>\n",
       "    </tr>\n",
       "    <tr>\n",
       "      <th>1</th>\n",
       "      <td>A.J. Derby</td>\n",
       "      <td>TE</td>\n",
       "      <td>1</td>\n",
       "      <td>Undisclosed</td>\n",
       "    </tr>\n",
       "    <tr>\n",
       "      <th>2</th>\n",
       "      <td>A.J. McCarron</td>\n",
       "      <td>QB</td>\n",
       "      <td>1</td>\n",
       "      <td>Healthy</td>\n",
       "    </tr>\n",
       "    <tr>\n",
       "      <th>3</th>\n",
       "      <td>AJ Dillon</td>\n",
       "      <td>RB</td>\n",
       "      <td>1</td>\n",
       "      <td>Healthy</td>\n",
       "    </tr>\n",
       "    <tr>\n",
       "      <th>4</th>\n",
       "      <td>Aaron Burbridge</td>\n",
       "      <td>WR</td>\n",
       "      <td>1</td>\n",
       "      <td>Healthy</td>\n",
       "    </tr>\n",
       "    <tr>\n",
       "      <th>...</th>\n",
       "      <td>...</td>\n",
       "      <td>...</td>\n",
       "      <td>...</td>\n",
       "      <td>...</td>\n",
       "    </tr>\n",
       "    <tr>\n",
       "      <th>6529</th>\n",
       "      <td>Zach Gentry</td>\n",
       "      <td>TE</td>\n",
       "      <td>9</td>\n",
       "      <td>NaN</td>\n",
       "    </tr>\n",
       "    <tr>\n",
       "      <th>6530</th>\n",
       "      <td>Zach Mettenberger</td>\n",
       "      <td>QB</td>\n",
       "      <td>9</td>\n",
       "      <td>NaN</td>\n",
       "    </tr>\n",
       "    <tr>\n",
       "      <th>6531</th>\n",
       "      <td>Zach Wilson</td>\n",
       "      <td>QB</td>\n",
       "      <td>9</td>\n",
       "      <td>NaN</td>\n",
       "    </tr>\n",
       "    <tr>\n",
       "      <th>6532</th>\n",
       "      <td>Zack Moss</td>\n",
       "      <td>RB</td>\n",
       "      <td>9</td>\n",
       "      <td>NaN</td>\n",
       "    </tr>\n",
       "    <tr>\n",
       "      <th>6533</th>\n",
       "      <td>Zay Jones</td>\n",
       "      <td>WR</td>\n",
       "      <td>9</td>\n",
       "      <td>NaN</td>\n",
       "    </tr>\n",
       "  </tbody>\n",
       "</table>\n",
       "<p>6534 rows × 4 columns</p>\n",
       "</div>"
      ],
      "text/plain": [
       "                 player position  variable        value\n",
       "0            A.J. Brown       WR         1      Healthy\n",
       "1            A.J. Derby       TE         1  Undisclosed\n",
       "2         A.J. McCarron       QB         1      Healthy\n",
       "3             AJ Dillon       RB         1      Healthy\n",
       "4       Aaron Burbridge       WR         1      Healthy\n",
       "...                 ...      ...       ...          ...\n",
       "6529        Zach Gentry       TE         9          NaN\n",
       "6530  Zach Mettenberger       QB         9          NaN\n",
       "6531        Zach Wilson       QB         9          NaN\n",
       "6532          Zack Moss       RB         9          NaN\n",
       "6533          Zay Jones       WR         9          NaN\n",
       "\n",
       "[6534 rows x 4 columns]"
      ]
     },
     "execution_count": 4,
     "metadata": {},
     "output_type": "execute_result"
    }
   ],
   "source": [
    "df_long"
   ]
  },
  {
   "cell_type": "markdown",
   "id": "35103658-3e1e-4586-ab64-8a4975b1df9d",
   "metadata": {},
   "source": [
    "Let's build a vocabulary based on the unique list of injuries"
   ]
  },
  {
   "cell_type": "code",
   "execution_count": 5,
   "id": "3fcad195-c720-450e-b0b5-b6c8115588ee",
   "metadata": {
    "tags": []
   },
   "outputs": [],
   "source": [
    "from nltk.lm.preprocessing import flatten\n",
    "\n",
    "vocab = list(flatten(pad_both_ends(injury, n=2) for injury in career.iloc[:,2:].values))\n",
    "vocab = [word for word in vocab if pd.isnull(word) == False]"
   ]
  },
  {
   "cell_type": "markdown",
   "id": "a4c0358e-54db-4129-a517-5d6dc9cef614",
   "metadata": {},
   "source": [
    "Here, our \"vocabulary\" of unique IR-related injuries is 39 words/phrases.  If we attempt to build a language model with an N of 4 (since our player's expected career length is 4 as we saw in the eda section), that means that we could have 2,313,441 possible combinations of healthy/injury sequences across a 4 year career. Obviously, with our limited data set, we don't have all combinations of injuries but we should be able to predict more frequent IR sequences."
   ]
  },
  {
   "cell_type": "code",
   "execution_count": 6,
   "id": "5de03129-cba8-4ba8-86b3-d114001cfb37",
   "metadata": {
    "tags": []
   },
   "outputs": [],
   "source": [
    "\n",
    "def getFrequentItemsets(df, threshold=.01, k=2):\n",
    "    \n",
    "    ''' Takes a binarized dataset and provides an analysis of support based on a specificed threshold \n",
    "    Parameters:\n",
    "    -----------\n",
    "        df - a binarized dataframe\n",
    "        threshold - float (default = .01) The minimum threshold for support. itemset threshold \n",
    "        underneath this value will be filtered out\n",
    "        k - 'int' (default=2) the size of the itemset to filter on\n",
    "        \n",
    "    Returns:\n",
    "    --------\n",
    "        a dataframe containing a itemsets and their relative support from highest to lowest\n",
    "    \n",
    "    '''\n",
    "    \n",
    "    itmst = apriori(df, min_support=threshold, use_colnames=True)\n",
    "    itmst.sort_values(\"support\", ascending=False, inplace=True)\n",
    "    itmst = itmst[itmst['itemsets'].map(len)==k]\n",
    "    return itmst\n",
    "\n",
    "\n",
    "\n",
    "def getTransitionProbabilities(df,init,init_num,trans_num,threshold=.0001):\n",
    "    mlb = MultiLabelBinarizer()\n",
    "    init_df = pd.DataFrame(mlb.fit_transform(df[df[str(init_num)]==init][[str(trans_num)]].fillna('').values),\n",
    "                             columns = mlb.classes_)\n",
    "    itmst = apriori(init_df, min_support=threshold, use_colnames=True).sort_values('support',ascending=False)\n",
    "    return itmst\n",
    "    \n",
    "    \n",
    "    # init_df = df[df[str(init_num)]==init]\n",
    "    # total = len(init_df)\n",
    "    # return len(init_df[init_df[str(trans_num)]==trans])/total\n"
   ]
  },
  {
   "cell_type": "code",
   "execution_count": 7,
   "id": "d46e38c3-2b78-4d60-afa7-2d2aba255a47",
   "metadata": {
    "tags": []
   },
   "outputs": [
    {
     "name": "stderr",
     "output_type": "stream",
     "text": [
      "/Applications/anaconda3/envs/FFB/lib/python3.11/site-packages/mlxtend/frequent_patterns/fpcommon.py:109: DeprecationWarning: DataFrames with non-bool types result in worse computationalperformance and their support might be discontinued in the future.Please use a DataFrame with bool type\n",
      "  warnings.warn(\n"
     ]
    }
   ],
   "source": [
    "mlb = MultiLabelBinarizer()\n",
    "df = pd.DataFrame(mlb.fit_transform(career[['1']].fillna('').values),\n",
    "                             columns = mlb.classes_)\n",
    "\n",
    "itms = getFrequentItemsets(df,threshold=.001, k=1)"
   ]
  },
  {
   "cell_type": "code",
   "execution_count": 8,
   "id": "53da6608-12a1-4ed4-aae6-aa3be7e071e3",
   "metadata": {
    "tags": []
   },
   "outputs": [
    {
     "name": "stdout",
     "output_type": "stream",
     "text": [
      "initial probability distributions\n"
     ]
    },
    {
     "data": {
      "text/html": [
       "<div>\n",
       "<style scoped>\n",
       "    .dataframe tbody tr th:only-of-type {\n",
       "        vertical-align: middle;\n",
       "    }\n",
       "\n",
       "    .dataframe tbody tr th {\n",
       "        vertical-align: top;\n",
       "    }\n",
       "\n",
       "    .dataframe thead th {\n",
       "        text-align: right;\n",
       "    }\n",
       "</style>\n",
       "<table border=\"1\" class=\"dataframe\">\n",
       "  <thead>\n",
       "    <tr style=\"text-align: right;\">\n",
       "      <th></th>\n",
       "      <th>support</th>\n",
       "      <th>itemsets</th>\n",
       "    </tr>\n",
       "  </thead>\n",
       "  <tbody>\n",
       "    <tr>\n",
       "      <th>11</th>\n",
       "      <td>0.713725</td>\n",
       "      <td>(Healthy)</td>\n",
       "    </tr>\n",
       "    <tr>\n",
       "      <th>0</th>\n",
       "      <td>0.109804</td>\n",
       "      <td>()</td>\n",
       "    </tr>\n",
       "    <tr>\n",
       "      <th>13</th>\n",
       "      <td>0.050109</td>\n",
       "      <td>(Knee)</td>\n",
       "    </tr>\n",
       "    <tr>\n",
       "      <th>2</th>\n",
       "      <td>0.020915</td>\n",
       "      <td>(Ankle)</td>\n",
       "    </tr>\n",
       "    <tr>\n",
       "      <th>18</th>\n",
       "      <td>0.015251</td>\n",
       "      <td>(Shoulder)</td>\n",
       "    </tr>\n",
       "    <tr>\n",
       "      <th>7</th>\n",
       "      <td>0.012636</td>\n",
       "      <td>(Foot)</td>\n",
       "    </tr>\n",
       "    <tr>\n",
       "      <th>9</th>\n",
       "      <td>0.012200</td>\n",
       "      <td>(Hamstring)</td>\n",
       "    </tr>\n",
       "    <tr>\n",
       "      <th>21</th>\n",
       "      <td>0.009586</td>\n",
       "      <td>(Undisclosed)</td>\n",
       "    </tr>\n",
       "    <tr>\n",
       "      <th>6</th>\n",
       "      <td>0.005664</td>\n",
       "      <td>(Designated for Return)</td>\n",
       "    </tr>\n",
       "    <tr>\n",
       "      <th>5</th>\n",
       "      <td>0.005229</td>\n",
       "      <td>(Concussion)</td>\n",
       "    </tr>\n",
       "    <tr>\n",
       "      <th>3</th>\n",
       "      <td>0.005229</td>\n",
       "      <td>(Back)</td>\n",
       "    </tr>\n",
       "    <tr>\n",
       "      <th>8</th>\n",
       "      <td>0.004357</td>\n",
       "      <td>(Groin)</td>\n",
       "    </tr>\n",
       "    <tr>\n",
       "      <th>1</th>\n",
       "      <td>0.004357</td>\n",
       "      <td>(Achilles)</td>\n",
       "    </tr>\n",
       "    <tr>\n",
       "      <th>14</th>\n",
       "      <td>0.003922</td>\n",
       "      <td>(Leg)</td>\n",
       "    </tr>\n",
       "    <tr>\n",
       "      <th>19</th>\n",
       "      <td>0.003050</td>\n",
       "      <td>(Thumb)</td>\n",
       "    </tr>\n",
       "    <tr>\n",
       "      <th>15</th>\n",
       "      <td>0.002614</td>\n",
       "      <td>(Neck)</td>\n",
       "    </tr>\n",
       "    <tr>\n",
       "      <th>20</th>\n",
       "      <td>0.002179</td>\n",
       "      <td>(Toe)</td>\n",
       "    </tr>\n",
       "    <tr>\n",
       "      <th>12</th>\n",
       "      <td>0.002179</td>\n",
       "      <td>(Hip)</td>\n",
       "    </tr>\n",
       "    <tr>\n",
       "      <th>17</th>\n",
       "      <td>0.002179</td>\n",
       "      <td>(Quadriceps)</td>\n",
       "    </tr>\n",
       "    <tr>\n",
       "      <th>10</th>\n",
       "      <td>0.001743</td>\n",
       "      <td>(Hand)</td>\n",
       "    </tr>\n",
       "    <tr>\n",
       "      <th>22</th>\n",
       "      <td>0.001743</td>\n",
       "      <td>(Wrist)</td>\n",
       "    </tr>\n",
       "    <tr>\n",
       "      <th>16</th>\n",
       "      <td>0.001307</td>\n",
       "      <td>(Pectoral)</td>\n",
       "    </tr>\n",
       "    <tr>\n",
       "      <th>4</th>\n",
       "      <td>0.001307</td>\n",
       "      <td>(Calf)</td>\n",
       "    </tr>\n",
       "  </tbody>\n",
       "</table>\n",
       "</div>"
      ],
      "text/plain": [
       "     support                 itemsets\n",
       "11  0.713725                (Healthy)\n",
       "0   0.109804                       ()\n",
       "13  0.050109                   (Knee)\n",
       "2   0.020915                  (Ankle)\n",
       "18  0.015251               (Shoulder)\n",
       "7   0.012636                   (Foot)\n",
       "9   0.012200              (Hamstring)\n",
       "21  0.009586            (Undisclosed)\n",
       "6   0.005664  (Designated for Return)\n",
       "5   0.005229             (Concussion)\n",
       "3   0.005229                   (Back)\n",
       "8   0.004357                  (Groin)\n",
       "1   0.004357               (Achilles)\n",
       "14  0.003922                    (Leg)\n",
       "19  0.003050                  (Thumb)\n",
       "15  0.002614                   (Neck)\n",
       "20  0.002179                    (Toe)\n",
       "12  0.002179                    (Hip)\n",
       "17  0.002179             (Quadriceps)\n",
       "10  0.001743                   (Hand)\n",
       "22  0.001743                  (Wrist)\n",
       "16  0.001307               (Pectoral)\n",
       "4   0.001307                   (Calf)"
      ]
     },
     "execution_count": 8,
     "metadata": {},
     "output_type": "execute_result"
    }
   ],
   "source": [
    "print(\"initial probability\")\n",
    "itms"
   ]
  },
  {
   "cell_type": "code",
   "execution_count": 9,
   "id": "3c80f7c3-e920-422d-8cb6-d11e9101d707",
   "metadata": {
    "tags": []
   },
   "outputs": [
    {
     "name": "stderr",
     "output_type": "stream",
     "text": [
      "/Applications/anaconda3/envs/FFB/lib/python3.11/site-packages/mlxtend/frequent_patterns/fpcommon.py:109: DeprecationWarning: DataFrames with non-bool types result in worse computationalperformance and their support might be discontinued in the future.Please use a DataFrame with bool type\n",
      "  warnings.warn(\n"
     ]
    },
    {
     "data": {
      "text/html": [
       "<div>\n",
       "<style scoped>\n",
       "    .dataframe tbody tr th:only-of-type {\n",
       "        vertical-align: middle;\n",
       "    }\n",
       "\n",
       "    .dataframe tbody tr th {\n",
       "        vertical-align: top;\n",
       "    }\n",
       "\n",
       "    .dataframe thead th {\n",
       "        text-align: right;\n",
       "    }\n",
       "</style>\n",
       "<table border=\"1\" class=\"dataframe\">\n",
       "  <thead>\n",
       "    <tr style=\"text-align: right;\">\n",
       "      <th></th>\n",
       "      <th>support</th>\n",
       "      <th>itemsets</th>\n",
       "    </tr>\n",
       "  </thead>\n",
       "  <tbody>\n",
       "    <tr>\n",
       "      <th>20</th>\n",
       "      <td>0.708307</td>\n",
       "      <td>(Healthy)</td>\n",
       "    </tr>\n",
       "    <tr>\n",
       "      <th>0</th>\n",
       "      <td>0.116802</td>\n",
       "      <td>()</td>\n",
       "    </tr>\n",
       "    <tr>\n",
       "      <th>25</th>\n",
       "      <td>0.035603</td>\n",
       "      <td>(Knee)</td>\n",
       "    </tr>\n",
       "    <tr>\n",
       "      <th>3</th>\n",
       "      <td>0.018738</td>\n",
       "      <td>(Ankle)</td>\n",
       "    </tr>\n",
       "    <tr>\n",
       "      <th>36</th>\n",
       "      <td>0.018114</td>\n",
       "      <td>(Undisclosed)</td>\n",
       "    </tr>\n",
       "    <tr>\n",
       "      <th>17</th>\n",
       "      <td>0.016240</td>\n",
       "      <td>(Hamstring)</td>\n",
       "    </tr>\n",
       "    <tr>\n",
       "      <th>31</th>\n",
       "      <td>0.012492</td>\n",
       "      <td>(Shoulder)</td>\n",
       "    </tr>\n",
       "    <tr>\n",
       "      <th>14</th>\n",
       "      <td>0.011868</td>\n",
       "      <td>(Foot)</td>\n",
       "    </tr>\n",
       "    <tr>\n",
       "      <th>2</th>\n",
       "      <td>0.006246</td>\n",
       "      <td>(Achilles)</td>\n",
       "    </tr>\n",
       "    <tr>\n",
       "      <th>11</th>\n",
       "      <td>0.004372</td>\n",
       "      <td>(Elbow)</td>\n",
       "    </tr>\n",
       "    <tr>\n",
       "      <th>16</th>\n",
       "      <td>0.003748</td>\n",
       "      <td>(Groin)</td>\n",
       "    </tr>\n",
       "    <tr>\n",
       "      <th>37</th>\n",
       "      <td>0.003748</td>\n",
       "      <td>(Wrist)</td>\n",
       "    </tr>\n",
       "    <tr>\n",
       "      <th>4</th>\n",
       "      <td>0.003748</td>\n",
       "      <td>(Back)</td>\n",
       "    </tr>\n",
       "    <tr>\n",
       "      <th>8</th>\n",
       "      <td>0.003748</td>\n",
       "      <td>(Concussion)</td>\n",
       "    </tr>\n",
       "    <tr>\n",
       "      <th>22</th>\n",
       "      <td>0.003123</td>\n",
       "      <td>(Hip)</td>\n",
       "    </tr>\n",
       "    <tr>\n",
       "      <th>28</th>\n",
       "      <td>0.003123</td>\n",
       "      <td>(Pectoral)</td>\n",
       "    </tr>\n",
       "    <tr>\n",
       "      <th>27</th>\n",
       "      <td>0.003123</td>\n",
       "      <td>(Neck)</td>\n",
       "    </tr>\n",
       "    <tr>\n",
       "      <th>18</th>\n",
       "      <td>0.003123</td>\n",
       "      <td>(Hand)</td>\n",
       "    </tr>\n",
       "    <tr>\n",
       "      <th>6</th>\n",
       "      <td>0.002498</td>\n",
       "      <td>(Calf)</td>\n",
       "    </tr>\n",
       "    <tr>\n",
       "      <th>1</th>\n",
       "      <td>0.002498</td>\n",
       "      <td>(Abdomen)</td>\n",
       "    </tr>\n",
       "    <tr>\n",
       "      <th>26</th>\n",
       "      <td>0.002498</td>\n",
       "      <td>(Leg)</td>\n",
       "    </tr>\n",
       "    <tr>\n",
       "      <th>29</th>\n",
       "      <td>0.001874</td>\n",
       "      <td>(Quadriceps)</td>\n",
       "    </tr>\n",
       "    <tr>\n",
       "      <th>5</th>\n",
       "      <td>0.001249</td>\n",
       "      <td>(Biceps)</td>\n",
       "    </tr>\n",
       "    <tr>\n",
       "      <th>34</th>\n",
       "      <td>0.001249</td>\n",
       "      <td>(Thumb)</td>\n",
       "    </tr>\n",
       "    <tr>\n",
       "      <th>32</th>\n",
       "      <td>0.001249</td>\n",
       "      <td>(Thigh)</td>\n",
       "    </tr>\n",
       "    <tr>\n",
       "      <th>7</th>\n",
       "      <td>0.001249</td>\n",
       "      <td>(Chest)</td>\n",
       "    </tr>\n",
       "    <tr>\n",
       "      <th>15</th>\n",
       "      <td>0.001249</td>\n",
       "      <td>(Forearm)</td>\n",
       "    </tr>\n",
       "    <tr>\n",
       "      <th>10</th>\n",
       "      <td>0.001249</td>\n",
       "      <td>(Designated for Return)</td>\n",
       "    </tr>\n",
       "    <tr>\n",
       "      <th>35</th>\n",
       "      <td>0.001249</td>\n",
       "      <td>(Toe)</td>\n",
       "    </tr>\n",
       "    <tr>\n",
       "      <th>33</th>\n",
       "      <td>0.000625</td>\n",
       "      <td>(Throat)</td>\n",
       "    </tr>\n",
       "    <tr>\n",
       "      <th>12</th>\n",
       "      <td>0.000625</td>\n",
       "      <td>(Eye)</td>\n",
       "    </tr>\n",
       "    <tr>\n",
       "      <th>30</th>\n",
       "      <td>0.000625</td>\n",
       "      <td>(Ribs)</td>\n",
       "    </tr>\n",
       "    <tr>\n",
       "      <th>13</th>\n",
       "      <td>0.000625</td>\n",
       "      <td>(Finger)</td>\n",
       "    </tr>\n",
       "    <tr>\n",
       "      <th>24</th>\n",
       "      <td>0.000625</td>\n",
       "      <td>(Kidney)</td>\n",
       "    </tr>\n",
       "    <tr>\n",
       "      <th>23</th>\n",
       "      <td>0.000625</td>\n",
       "      <td>(Jaw)</td>\n",
       "    </tr>\n",
       "    <tr>\n",
       "      <th>21</th>\n",
       "      <td>0.000625</td>\n",
       "      <td>(Hernia)</td>\n",
       "    </tr>\n",
       "    <tr>\n",
       "      <th>9</th>\n",
       "      <td>0.000625</td>\n",
       "      <td>(Core Muscle)</td>\n",
       "    </tr>\n",
       "    <tr>\n",
       "      <th>19</th>\n",
       "      <td>0.000625</td>\n",
       "      <td>(Head)</td>\n",
       "    </tr>\n",
       "  </tbody>\n",
       "</table>\n",
       "</div>"
      ],
      "text/plain": [
       "     support                 itemsets\n",
       "20  0.708307                (Healthy)\n",
       "0   0.116802                       ()\n",
       "25  0.035603                   (Knee)\n",
       "3   0.018738                  (Ankle)\n",
       "36  0.018114            (Undisclosed)\n",
       "17  0.016240              (Hamstring)\n",
       "31  0.012492               (Shoulder)\n",
       "14  0.011868                   (Foot)\n",
       "2   0.006246               (Achilles)\n",
       "11  0.004372                  (Elbow)\n",
       "16  0.003748                  (Groin)\n",
       "37  0.003748                  (Wrist)\n",
       "4   0.003748                   (Back)\n",
       "8   0.003748             (Concussion)\n",
       "22  0.003123                    (Hip)\n",
       "28  0.003123               (Pectoral)\n",
       "27  0.003123                   (Neck)\n",
       "18  0.003123                   (Hand)\n",
       "6   0.002498                   (Calf)\n",
       "1   0.002498                (Abdomen)\n",
       "26  0.002498                    (Leg)\n",
       "29  0.001874             (Quadriceps)\n",
       "5   0.001249                 (Biceps)\n",
       "34  0.001249                  (Thumb)\n",
       "32  0.001249                  (Thigh)\n",
       "7   0.001249                  (Chest)\n",
       "15  0.001249                (Forearm)\n",
       "10  0.001249  (Designated for Return)\n",
       "35  0.001249                    (Toe)\n",
       "33  0.000625                 (Throat)\n",
       "12  0.000625                    (Eye)\n",
       "30  0.000625                   (Ribs)\n",
       "13  0.000625                 (Finger)\n",
       "24  0.000625                 (Kidney)\n",
       "23  0.000625                    (Jaw)\n",
       "21  0.000625                 (Hernia)\n",
       "9   0.000625            (Core Muscle)\n",
       "19  0.000625                   (Head)"
      ]
     },
     "execution_count": 9,
     "metadata": {},
     "output_type": "execute_result"
    }
   ],
   "source": [
    "#Now we assign transition probabilities to each state\n",
    "\n",
    "itmst = getTransitionProbabilities(career,'Healthy',2,3)\n",
    "itmst"
   ]
  },
  {
   "cell_type": "code",
   "execution_count": 10,
   "id": "994454a7-9baf-4975-a841-e48de1749adc",
   "metadata": {
    "tags": []
   },
   "outputs": [
    {
     "data": {
      "text/html": [
       "<div>\n",
       "<style scoped>\n",
       "    .dataframe tbody tr th:only-of-type {\n",
       "        vertical-align: middle;\n",
       "    }\n",
       "\n",
       "    .dataframe tbody tr th {\n",
       "        vertical-align: top;\n",
       "    }\n",
       "\n",
       "    .dataframe thead th {\n",
       "        text-align: right;\n",
       "    }\n",
       "</style>\n",
       "<table border=\"1\" class=\"dataframe\">\n",
       "  <thead>\n",
       "    <tr style=\"text-align: right;\">\n",
       "      <th></th>\n",
       "      <th>player</th>\n",
       "      <th>position</th>\n",
       "      <th>1</th>\n",
       "      <th>2</th>\n",
       "      <th>3</th>\n",
       "      <th>4</th>\n",
       "      <th>5</th>\n",
       "      <th>6</th>\n",
       "      <th>7</th>\n",
       "      <th>8</th>\n",
       "      <th>9</th>\n",
       "    </tr>\n",
       "  </thead>\n",
       "  <tbody>\n",
       "    <tr>\n",
       "      <th>4</th>\n",
       "      <td>A.J. Epenesa</td>\n",
       "      <td>DE</td>\n",
       "      <td>Healthy</td>\n",
       "      <td>Healthy</td>\n",
       "      <td>NaN</td>\n",
       "      <td>NaN</td>\n",
       "      <td>NaN</td>\n",
       "      <td>NaN</td>\n",
       "      <td>NaN</td>\n",
       "      <td>NaN</td>\n",
       "      <td>NaN</td>\n",
       "    </tr>\n",
       "    <tr>\n",
       "      <th>7</th>\n",
       "      <td>A.J. Terrell</td>\n",
       "      <td>DB</td>\n",
       "      <td>Healthy</td>\n",
       "      <td>Healthy</td>\n",
       "      <td>NaN</td>\n",
       "      <td>NaN</td>\n",
       "      <td>NaN</td>\n",
       "      <td>NaN</td>\n",
       "      <td>NaN</td>\n",
       "      <td>NaN</td>\n",
       "      <td>NaN</td>\n",
       "    </tr>\n",
       "    <tr>\n",
       "      <th>8</th>\n",
       "      <td>AJ Dillon</td>\n",
       "      <td>RB</td>\n",
       "      <td>Healthy</td>\n",
       "      <td>Healthy</td>\n",
       "      <td>NaN</td>\n",
       "      <td>NaN</td>\n",
       "      <td>NaN</td>\n",
       "      <td>NaN</td>\n",
       "      <td>NaN</td>\n",
       "      <td>NaN</td>\n",
       "      <td>NaN</td>\n",
       "    </tr>\n",
       "    <tr>\n",
       "      <th>9</th>\n",
       "      <td>Aaron Banks</td>\n",
       "      <td>OG</td>\n",
       "      <td>Healthy</td>\n",
       "      <td>NaN</td>\n",
       "      <td>NaN</td>\n",
       "      <td>NaN</td>\n",
       "      <td>NaN</td>\n",
       "      <td>NaN</td>\n",
       "      <td>NaN</td>\n",
       "      <td>NaN</td>\n",
       "      <td>NaN</td>\n",
       "    </tr>\n",
       "    <tr>\n",
       "      <th>19</th>\n",
       "      <td>Aaron Robinson</td>\n",
       "      <td>DB</td>\n",
       "      <td>Core Muscle</td>\n",
       "      <td>NaN</td>\n",
       "      <td>NaN</td>\n",
       "      <td>NaN</td>\n",
       "      <td>NaN</td>\n",
       "      <td>NaN</td>\n",
       "      <td>NaN</td>\n",
       "      <td>NaN</td>\n",
       "      <td>NaN</td>\n",
       "    </tr>\n",
       "    <tr>\n",
       "      <th>...</th>\n",
       "      <td>...</td>\n",
       "      <td>...</td>\n",
       "      <td>...</td>\n",
       "      <td>...</td>\n",
       "      <td>...</td>\n",
       "      <td>...</td>\n",
       "      <td>...</td>\n",
       "      <td>...</td>\n",
       "      <td>...</td>\n",
       "      <td>...</td>\n",
       "      <td>...</td>\n",
       "    </tr>\n",
       "    <tr>\n",
       "      <th>2283</th>\n",
       "      <td>Zach Wilson</td>\n",
       "      <td>QB</td>\n",
       "      <td>Healthy</td>\n",
       "      <td>NaN</td>\n",
       "      <td>NaN</td>\n",
       "      <td>NaN</td>\n",
       "      <td>NaN</td>\n",
       "      <td>NaN</td>\n",
       "      <td>NaN</td>\n",
       "      <td>NaN</td>\n",
       "      <td>NaN</td>\n",
       "    </tr>\n",
       "    <tr>\n",
       "      <th>2284</th>\n",
       "      <td>Zack Baun</td>\n",
       "      <td>LB</td>\n",
       "      <td>Healthy</td>\n",
       "      <td>Healthy</td>\n",
       "      <td>NaN</td>\n",
       "      <td>NaN</td>\n",
       "      <td>NaN</td>\n",
       "      <td>NaN</td>\n",
       "      <td>NaN</td>\n",
       "      <td>NaN</td>\n",
       "      <td>NaN</td>\n",
       "    </tr>\n",
       "    <tr>\n",
       "      <th>2286</th>\n",
       "      <td>Zack Moss</td>\n",
       "      <td>RB</td>\n",
       "      <td>Ankle</td>\n",
       "      <td>NaN</td>\n",
       "      <td>NaN</td>\n",
       "      <td>NaN</td>\n",
       "      <td>NaN</td>\n",
       "      <td>NaN</td>\n",
       "      <td>NaN</td>\n",
       "      <td>NaN</td>\n",
       "      <td>NaN</td>\n",
       "    </tr>\n",
       "    <tr>\n",
       "      <th>2290</th>\n",
       "      <td>Zaven Collins</td>\n",
       "      <td>LB</td>\n",
       "      <td>Healthy</td>\n",
       "      <td>NaN</td>\n",
       "      <td>NaN</td>\n",
       "      <td>NaN</td>\n",
       "      <td>NaN</td>\n",
       "      <td>NaN</td>\n",
       "      <td>NaN</td>\n",
       "      <td>NaN</td>\n",
       "      <td>NaN</td>\n",
       "    </tr>\n",
       "    <tr>\n",
       "      <th>2293</th>\n",
       "      <td>Zech McPhearson</td>\n",
       "      <td>DB</td>\n",
       "      <td>Healthy</td>\n",
       "      <td>NaN</td>\n",
       "      <td>NaN</td>\n",
       "      <td>NaN</td>\n",
       "      <td>NaN</td>\n",
       "      <td>NaN</td>\n",
       "      <td>NaN</td>\n",
       "      <td>NaN</td>\n",
       "      <td>NaN</td>\n",
       "    </tr>\n",
       "  </tbody>\n",
       "</table>\n",
       "<p>523 rows × 11 columns</p>\n",
       "</div>"
      ],
      "text/plain": [
       "               player position            1        2    3    4    5    6    7  \\\n",
       "4        A.J. Epenesa       DE      Healthy  Healthy  NaN  NaN  NaN  NaN  NaN   \n",
       "7        A.J. Terrell       DB      Healthy  Healthy  NaN  NaN  NaN  NaN  NaN   \n",
       "8           AJ Dillon       RB      Healthy  Healthy  NaN  NaN  NaN  NaN  NaN   \n",
       "9         Aaron Banks       OG      Healthy      NaN  NaN  NaN  NaN  NaN  NaN   \n",
       "19     Aaron Robinson       DB  Core Muscle      NaN  NaN  NaN  NaN  NaN  NaN   \n",
       "...               ...      ...          ...      ...  ...  ...  ...  ...  ...   \n",
       "2283      Zach Wilson       QB      Healthy      NaN  NaN  NaN  NaN  NaN  NaN   \n",
       "2284        Zack Baun       LB      Healthy  Healthy  NaN  NaN  NaN  NaN  NaN   \n",
       "2286        Zack Moss       RB        Ankle      NaN  NaN  NaN  NaN  NaN  NaN   \n",
       "2290    Zaven Collins       LB      Healthy      NaN  NaN  NaN  NaN  NaN  NaN   \n",
       "2293  Zech McPhearson       DB      Healthy      NaN  NaN  NaN  NaN  NaN  NaN   \n",
       "\n",
       "        8    9  \n",
       "4     NaN  NaN  \n",
       "7     NaN  NaN  \n",
       "8     NaN  NaN  \n",
       "9     NaN  NaN  \n",
       "19    NaN  NaN  \n",
       "...   ...  ...  \n",
       "2283  NaN  NaN  \n",
       "2284  NaN  NaN  \n",
       "2286  NaN  NaN  \n",
       "2290  NaN  NaN  \n",
       "2293  NaN  NaN  \n",
       "\n",
       "[523 rows x 11 columns]"
      ]
     },
     "execution_count": 10,
     "metadata": {},
     "output_type": "execute_result"
    }
   ],
   "source": [
    "career[career['3'].isna()==True]"
   ]
  },
  {
   "cell_type": "code",
   "execution_count": 11,
   "id": "9b703989-40ac-4218-8e07-fe58701aa346",
   "metadata": {
    "tags": []
   },
   "outputs": [
    {
     "name": "stderr",
     "output_type": "stream",
     "text": [
      "/Applications/anaconda3/envs/FFB/lib/python3.11/site-packages/mlxtend/frequent_patterns/fpcommon.py:109: DeprecationWarning: DataFrames with non-bool types result in worse computationalperformance and their support might be discontinued in the future.Please use a DataFrame with bool type\n",
      "  warnings.warn(\n"
     ]
    },
    {
     "data": {
      "text/html": [
       "<div>\n",
       "<style scoped>\n",
       "    .dataframe tbody tr th:only-of-type {\n",
       "        vertical-align: middle;\n",
       "    }\n",
       "\n",
       "    .dataframe tbody tr th {\n",
       "        vertical-align: top;\n",
       "    }\n",
       "\n",
       "    .dataframe thead th {\n",
       "        text-align: right;\n",
       "    }\n",
       "</style>\n",
       "<table border=\"1\" class=\"dataframe\">\n",
       "  <thead>\n",
       "    <tr style=\"text-align: right;\">\n",
       "      <th></th>\n",
       "      <th>support</th>\n",
       "      <th>itemsets</th>\n",
       "    </tr>\n",
       "  </thead>\n",
       "  <tbody>\n",
       "    <tr>\n",
       "      <th>17</th>\n",
       "      <td>0.713796</td>\n",
       "      <td>(Healthy)</td>\n",
       "    </tr>\n",
       "    <tr>\n",
       "      <th>0</th>\n",
       "      <td>0.125964</td>\n",
       "      <td>()</td>\n",
       "    </tr>\n",
       "    <tr>\n",
       "      <th>20</th>\n",
       "      <td>0.032562</td>\n",
       "      <td>(Knee)</td>\n",
       "    </tr>\n",
       "    <tr>\n",
       "      <th>3</th>\n",
       "      <td>0.023993</td>\n",
       "      <td>(Ankle)</td>\n",
       "    </tr>\n",
       "    <tr>\n",
       "      <th>27</th>\n",
       "      <td>0.016281</td>\n",
       "      <td>(Undisclosed)</td>\n",
       "    </tr>\n",
       "    <tr>\n",
       "      <th>14</th>\n",
       "      <td>0.015424</td>\n",
       "      <td>(Hamstring)</td>\n",
       "    </tr>\n",
       "    <tr>\n",
       "      <th>11</th>\n",
       "      <td>0.013710</td>\n",
       "      <td>(Foot)</td>\n",
       "    </tr>\n",
       "    <tr>\n",
       "      <th>25</th>\n",
       "      <td>0.009426</td>\n",
       "      <td>(Shoulder)</td>\n",
       "    </tr>\n",
       "    <tr>\n",
       "      <th>2</th>\n",
       "      <td>0.005141</td>\n",
       "      <td>(Achilles)</td>\n",
       "    </tr>\n",
       "    <tr>\n",
       "      <th>10</th>\n",
       "      <td>0.005141</td>\n",
       "      <td>(Elbow)</td>\n",
       "    </tr>\n",
       "    <tr>\n",
       "      <th>8</th>\n",
       "      <td>0.004284</td>\n",
       "      <td>(Concussion)</td>\n",
       "    </tr>\n",
       "    <tr>\n",
       "      <th>4</th>\n",
       "      <td>0.004284</td>\n",
       "      <td>(Back)</td>\n",
       "    </tr>\n",
       "    <tr>\n",
       "      <th>18</th>\n",
       "      <td>0.003428</td>\n",
       "      <td>(Hip)</td>\n",
       "    </tr>\n",
       "    <tr>\n",
       "      <th>6</th>\n",
       "      <td>0.002571</td>\n",
       "      <td>(Calf)</td>\n",
       "    </tr>\n",
       "    <tr>\n",
       "      <th>23</th>\n",
       "      <td>0.002571</td>\n",
       "      <td>(Pectoral)</td>\n",
       "    </tr>\n",
       "    <tr>\n",
       "      <th>22</th>\n",
       "      <td>0.002571</td>\n",
       "      <td>(Neck)</td>\n",
       "    </tr>\n",
       "    <tr>\n",
       "      <th>21</th>\n",
       "      <td>0.002571</td>\n",
       "      <td>(Leg)</td>\n",
       "    </tr>\n",
       "    <tr>\n",
       "      <th>28</th>\n",
       "      <td>0.002571</td>\n",
       "      <td>(Wrist)</td>\n",
       "    </tr>\n",
       "    <tr>\n",
       "      <th>15</th>\n",
       "      <td>0.002571</td>\n",
       "      <td>(Hand)</td>\n",
       "    </tr>\n",
       "    <tr>\n",
       "      <th>7</th>\n",
       "      <td>0.001714</td>\n",
       "      <td>(Chest)</td>\n",
       "    </tr>\n",
       "    <tr>\n",
       "      <th>13</th>\n",
       "      <td>0.001714</td>\n",
       "      <td>(Groin)</td>\n",
       "    </tr>\n",
       "    <tr>\n",
       "      <th>12</th>\n",
       "      <td>0.001714</td>\n",
       "      <td>(Forearm)</td>\n",
       "    </tr>\n",
       "    <tr>\n",
       "      <th>19</th>\n",
       "      <td>0.000857</td>\n",
       "      <td>(Jaw)</td>\n",
       "    </tr>\n",
       "    <tr>\n",
       "      <th>16</th>\n",
       "      <td>0.000857</td>\n",
       "      <td>(Head)</td>\n",
       "    </tr>\n",
       "    <tr>\n",
       "      <th>1</th>\n",
       "      <td>0.000857</td>\n",
       "      <td>(Abdomen)</td>\n",
       "    </tr>\n",
       "    <tr>\n",
       "      <th>24</th>\n",
       "      <td>0.000857</td>\n",
       "      <td>(Quadriceps)</td>\n",
       "    </tr>\n",
       "    <tr>\n",
       "      <th>26</th>\n",
       "      <td>0.000857</td>\n",
       "      <td>(Thumb)</td>\n",
       "    </tr>\n",
       "    <tr>\n",
       "      <th>9</th>\n",
       "      <td>0.000857</td>\n",
       "      <td>(Core Muscle)</td>\n",
       "    </tr>\n",
       "    <tr>\n",
       "      <th>5</th>\n",
       "      <td>0.000857</td>\n",
       "      <td>(Biceps)</td>\n",
       "    </tr>\n",
       "  </tbody>\n",
       "</table>\n",
       "</div>"
      ],
      "text/plain": [
       "     support       itemsets\n",
       "17  0.713796      (Healthy)\n",
       "0   0.125964             ()\n",
       "20  0.032562         (Knee)\n",
       "3   0.023993        (Ankle)\n",
       "27  0.016281  (Undisclosed)\n",
       "14  0.015424    (Hamstring)\n",
       "11  0.013710         (Foot)\n",
       "25  0.009426     (Shoulder)\n",
       "2   0.005141     (Achilles)\n",
       "10  0.005141        (Elbow)\n",
       "8   0.004284   (Concussion)\n",
       "4   0.004284         (Back)\n",
       "18  0.003428          (Hip)\n",
       "6   0.002571         (Calf)\n",
       "23  0.002571     (Pectoral)\n",
       "22  0.002571         (Neck)\n",
       "21  0.002571          (Leg)\n",
       "28  0.002571        (Wrist)\n",
       "15  0.002571         (Hand)\n",
       "7   0.001714        (Chest)\n",
       "13  0.001714        (Groin)\n",
       "12  0.001714      (Forearm)\n",
       "19  0.000857          (Jaw)\n",
       "16  0.000857         (Head)\n",
       "1   0.000857      (Abdomen)\n",
       "24  0.000857   (Quadriceps)\n",
       "26  0.000857        (Thumb)\n",
       "9   0.000857  (Core Muscle)\n",
       "5   0.000857       (Biceps)"
      ]
     },
     "execution_count": 11,
     "metadata": {},
     "output_type": "execute_result"
    }
   ],
   "source": [
    "mlb = MultiLabelBinarizer()\n",
    "init_df = pd.DataFrame(mlb.fit_transform(career[(career['1']=='Healthy') &\n",
    "                                               (career['2']=='Healthy')][[\"3\"]].fillna('').values),\n",
    "                         columns = mlb.classes_)\n",
    "itmst = apriori(init_df, min_support=.0001, use_colnames=True).sort_values('support',ascending=False)\n",
    "itmst"
   ]
  },
  {
   "cell_type": "code",
   "execution_count": 12,
   "id": "35a5c8d1-1478-4c33-a85e-03bb48fd336c",
   "metadata": {
    "tags": []
   },
   "outputs": [],
   "source": [
    "# ['Healthy', 'Healthy', 'Foot', 'Healthy']\n",
    "\n",
    "anks = career[(career['1']=='Healthy') & \n",
    "       (career['2']=='Ankle') &\n",
    "       (career['3']=='Healthy') &\n",
    "       (career['4']=='Healthy') &\n",
    "       (career['5']=='Healthy')]\n",
    "\n",
    "        \n"
   ]
  },
  {
   "cell_type": "code",
   "execution_count": 13,
   "id": "75415eb6-5a77-404a-8049-be08fc767e0a",
   "metadata": {
    "tags": []
   },
   "outputs": [],
   "source": [
    "## Using NLTK's language models"
   ]
  },
  {
   "cell_type": "code",
   "execution_count": 14,
   "id": "6b17e6db-67d9-4321-b9a0-0674fb720536",
   "metadata": {
    "tags": []
   },
   "outputs": [],
   "source": [
    "from nltk.util import pad_sequence\n",
    "from nltk.lm.preprocessing import pad_both_ends\n",
    "from nltk.util import everygrams"
   ]
  },
  {
   "cell_type": "markdown",
   "id": "4a4754c9-7349-42db-8b70-d3a392d732d6",
   "metadata": {},
   "source": [
    "Using nltk's library, we can incorporate beginning and ending tags in a player's career (pad_both_ends).  We're mostly concerned about the start of the player's career for this model as we care to predict injuries during the player's career (not so much predicting the end of the player's career."
   ]
  },
  {
   "cell_type": "code",
   "execution_count": 54,
   "id": "cd0ba20e-c736-4234-a1f3-9ff0c98cbffb",
   "metadata": {
    "tags": []
   },
   "outputs": [],
   "source": [
    "my_lst = [[x for x in row if pd.isnull(x)==False] for row in career.iloc[:,2:].values]\n",
    "my_lst\n",
    "my_new_lst = [list(pad_both_ends(seq,2)) for seq in my_lst]"
   ]
  },
  {
   "cell_type": "code",
   "execution_count": 55,
   "id": "6b8a651b-de87-4d17-841d-a7c1cd420283",
   "metadata": {
    "tags": []
   },
   "outputs": [
    {
     "data": {
      "text/plain": [
       "[['<s>',\n",
       "  'Healthy',\n",
       "  'Healthy',\n",
       "  'Knee',\n",
       "  'Healthy',\n",
       "  'Healthy',\n",
       "  'Healthy',\n",
       "  '</s>'],\n",
       " ['<s>', 'Healthy', 'Healthy', 'Chest', '</s>'],\n",
       " ['<s>',\n",
       "  'Healthy',\n",
       "  'Healthy',\n",
       "  'Healthy',\n",
       "  'Healthy',\n",
       "  'Healthy',\n",
       "  'Healthy',\n",
       "  'Knee',\n",
       "  '</s>'],\n",
       " ['<s>',\n",
       "  'Undisclosed',\n",
       "  'Healthy',\n",
       "  'Shoulder',\n",
       "  'Foot',\n",
       "  'Healthy',\n",
       "  'Healthy',\n",
       "  'Healthy',\n",
       "  '</s>'],\n",
       " ['<s>', 'Healthy', 'Healthy', '</s>']]"
      ]
     },
     "execution_count": 55,
     "metadata": {},
     "output_type": "execute_result"
    }
   ],
   "source": [
    "# Visual inspection of the first 5 career sequences after pre-processing\n",
    "my_new_lst[:5]"
   ]
  },
  {
   "cell_type": "code",
   "execution_count": 18,
   "id": "c053d729-256b-4784-b22e-efdb4805d7fc",
   "metadata": {
    "tags": []
   },
   "outputs": [
    {
     "data": {
      "text/html": [
       "<div>\n",
       "<style scoped>\n",
       "    .dataframe tbody tr th:only-of-type {\n",
       "        vertical-align: middle;\n",
       "    }\n",
       "\n",
       "    .dataframe tbody tr th {\n",
       "        vertical-align: top;\n",
       "    }\n",
       "\n",
       "    .dataframe thead th {\n",
       "        text-align: right;\n",
       "    }\n",
       "</style>\n",
       "<table border=\"1\" class=\"dataframe\">\n",
       "  <thead>\n",
       "    <tr style=\"text-align: right;\">\n",
       "      <th></th>\n",
       "      <th>player</th>\n",
       "      <th>position</th>\n",
       "      <th>1</th>\n",
       "      <th>2</th>\n",
       "      <th>3</th>\n",
       "      <th>4</th>\n",
       "      <th>5</th>\n",
       "      <th>6</th>\n",
       "      <th>7</th>\n",
       "      <th>8</th>\n",
       "      <th>9</th>\n",
       "    </tr>\n",
       "  </thead>\n",
       "  <tbody>\n",
       "    <tr>\n",
       "      <th>381</th>\n",
       "      <td>Christian McCaffrey</td>\n",
       "      <td>RB</td>\n",
       "      <td>Healthy</td>\n",
       "      <td>Healthy</td>\n",
       "      <td>Healthy</td>\n",
       "      <td>Ankle</td>\n",
       "      <td>Hamstring</td>\n",
       "      <td>NaN</td>\n",
       "      <td>NaN</td>\n",
       "      <td>NaN</td>\n",
       "      <td>NaN</td>\n",
       "    </tr>\n",
       "  </tbody>\n",
       "</table>\n",
       "</div>"
      ],
      "text/plain": [
       "                  player position        1        2        3      4  \\\n",
       "381  Christian McCaffrey       RB  Healthy  Healthy  Healthy  Ankle   \n",
       "\n",
       "             5    6    7    8    9  \n",
       "381  Hamstring  NaN  NaN  NaN  NaN  "
      ]
     },
     "execution_count": 18,
     "metadata": {},
     "output_type": "execute_result"
    }
   ],
   "source": [
    "career[career['player'].str.contains('Christian McCaffrey')]\n"
   ]
  },
  {
   "cell_type": "code",
   "execution_count": 19,
   "id": "301472fd-9b3c-47f0-bb84-8c556741fea4",
   "metadata": {
    "tags": []
   },
   "outputs": [],
   "source": [
    "# Use everygrams to get larger n-grams\n",
    "my_quad_lst = [list(everygrams(seq,max_len=3)) for seq in my_new_lst]"
   ]
  },
  {
   "cell_type": "code",
   "execution_count": 20,
   "id": "aded6529-afb5-4c7f-b314-38a8e9ae52b2",
   "metadata": {
    "tags": []
   },
   "outputs": [],
   "source": [
    "import numpy as np\n",
    "\n",
    "# my_every_array  = np.array(my_every_lst, dtype='object')\n",
    "# train, dev, test = np.split(my_tri_lst,[int(.8*len(my_tri_lst)), int(.9*len(my_tri_lst))])"
   ]
  },
  {
   "cell_type": "markdown",
   "id": "5429d53c-a869-40c2-be1a-6b50ff843ad8",
   "metadata": {},
   "source": [
    "For our simple model, we'll use ntlk's Maximum Likelihood Estimator which has a variety of features to help estimate both raw probabilities and words (in this case injuries). We can also use the 39 injury types to build a vocabulary which helps train the statistical model"
   ]
  },
  {
   "cell_type": "code",
   "execution_count": 21,
   "id": "e6e02862-ccd3-455b-84f6-8bc1c5af9f2e",
   "metadata": {
    "tags": []
   },
   "outputs": [],
   "source": [
    "from nltk.lm import MLE\n",
    "from nltk.lm import Vocabulary"
   ]
  },
  {
   "cell_type": "code",
   "execution_count": 22,
   "id": "cb61a330-96ee-48a6-8688-c7c0474e51cd",
   "metadata": {
    "tags": []
   },
   "outputs": [],
   "source": [
    "inj_vocab = Vocabulary(vocab, unk_cutoff=2)"
   ]
  },
  {
   "cell_type": "code",
   "execution_count": 23,
   "id": "64eb96bf-854d-4603-971b-49214fb88692",
   "metadata": {
    "tags": []
   },
   "outputs": [],
   "source": [
    "lm = MLE(4)"
   ]
  },
  {
   "cell_type": "code",
   "execution_count": 24,
   "id": "9921ccef-26f2-4665-a155-6347e1c09a83",
   "metadata": {
    "tags": []
   },
   "outputs": [],
   "source": [
    "lm.fit(my_quad_lst, inj_vocab)"
   ]
  },
  {
   "cell_type": "code",
   "execution_count": 25,
   "id": "b59d5b6e-04bc-4c5e-88e1-0f55fd1501db",
   "metadata": {
    "tags": []
   },
   "outputs": [
    {
     "data": {
      "text/plain": [
       "('Ankle', '<UNK>', '<UNK>')"
      ]
     },
     "execution_count": 25,
     "metadata": {},
     "output_type": "execute_result"
    }
   ],
   "source": [
    "lm.vocab.lookup([\"Ankle\", \"Swim\", \"Mars\"])"
   ]
  },
  {
   "cell_type": "code",
   "execution_count": 26,
   "id": "7532fea0-1428-48db-8b1d-bb0c8a9afe3e",
   "metadata": {
    "tags": []
   },
   "outputs": [
    {
     "name": "stdout",
     "output_type": "stream",
     "text": [
      "<NgramCounter with 3 ngram orders and 53436 ngrams>\n"
     ]
    }
   ],
   "source": [
    "print(lm.counts)"
   ]
  },
  {
   "cell_type": "markdown",
   "id": "d9a55aa5-bfac-4c1f-abd9-5535932458ce",
   "metadata": {},
   "source": [
    "We can use the counts property to count the number of n-grams for a single injury, or we can pass a sequence of injuries (representing a career of x length) followed by an interested injury given the sequence to see the number of n-grams with that sequence.  We could convert it to a probability by dividing it by the total number of players over the passed sequence."
   ]
  },
  {
   "cell_type": "code",
   "execution_count": 27,
   "id": "1a453c94-308c-486f-8cad-f1d14ea46dbb",
   "metadata": {
    "tags": []
   },
   "outputs": [
    {
     "data": {
      "text/plain": [
       "203"
      ]
     },
     "execution_count": 27,
     "metadata": {},
     "output_type": "execute_result"
    }
   ],
   "source": [
    "lm.counts['Ankle']"
   ]
  },
  {
   "cell_type": "code",
   "execution_count": 28,
   "id": "c81b6081-ca6c-4804-8991-65096d9fa34a",
   "metadata": {
    "tags": []
   },
   "outputs": [
    {
     "data": {
      "text/plain": [
       "0"
      ]
     },
     "execution_count": 28,
     "metadata": {},
     "output_type": "execute_result"
    }
   ],
   "source": [
    "lm.score('Ankle',['<s>','Healthy','Knee'])"
   ]
  },
  {
   "cell_type": "code",
   "execution_count": 29,
   "id": "86166f2a-bbf3-42ec-aea5-deff8480a8f2",
   "metadata": {
    "tags": []
   },
   "outputs": [
    {
     "name": "stdout",
     "output_type": "stream",
     "text": [
      "0.7263329706202394\n"
     ]
    }
   ],
   "source": [
    "\n",
    "print(lm.counts[['<s>','Healthy']]['Healthy']  /  lm.counts[['<s>']]['Healthy'])"
   ]
  },
  {
   "cell_type": "code",
   "execution_count": 30,
   "id": "4bd4fc91-7dc1-4cb7-bd11-775732063d7b",
   "metadata": {
    "tags": []
   },
   "outputs": [
    {
     "data": {
      "text/plain": [
       "1838"
      ]
     },
     "execution_count": 30,
     "metadata": {},
     "output_type": "execute_result"
    }
   ],
   "source": [
    "lm.counts[['<s>']]['Healthy']"
   ]
  },
  {
   "cell_type": "code",
   "execution_count": 34,
   "id": "dc9e91cb-851b-4962-aea3-9cbd10a5ab03",
   "metadata": {
    "tags": []
   },
   "outputs": [
    {
     "data": {
      "text/plain": [
       "0"
      ]
     },
     "execution_count": 34,
     "metadata": {},
     "output_type": "execute_result"
    }
   ],
   "source": [
    "lm.score('Knee', ['<s>','Healthy','Healthy','Ankle','Hamstring'])"
   ]
  },
  {
   "cell_type": "code",
   "execution_count": 35,
   "id": "3418ef15-1bdf-4142-8eec-e2ffd0799da6",
   "metadata": {
    "tags": []
   },
   "outputs": [
    {
     "data": {
      "text/plain": [
       "0.7263329706202394"
      ]
     },
     "execution_count": 35,
     "metadata": {},
     "output_type": "execute_result"
    }
   ],
   "source": [
    "lm.score('Healthy', ['<s>','Healthy'])"
   ]
  },
  {
   "cell_type": "code",
   "execution_count": 36,
   "id": "fcaf6a3f-95cd-4e07-a06c-7f8d016f52cb",
   "metadata": {
    "tags": []
   },
   "outputs": [],
   "source": [
    "import ast"
   ]
  },
  {
   "cell_type": "code",
   "execution_count": 37,
   "id": "adf53ff5-6c3f-4f27-947b-ad5c71886072",
   "metadata": {
    "tags": []
   },
   "outputs": [],
   "source": [
    "pickle.dump(lm, open('model/ir_model', 'wb'))"
   ]
  },
  {
   "cell_type": "code",
   "execution_count": 38,
   "id": "4828849f-d930-47ba-a7b4-a81834863513",
   "metadata": {
    "tags": []
   },
   "outputs": [
    {
     "data": {
      "text/plain": [
       "FreqDist({})"
      ]
     },
     "execution_count": 38,
     "metadata": {},
     "output_type": "execute_result"
    }
   ],
   "source": [
    "lm.counts[['Healthy', 'Healthy', 'Healthy']]"
   ]
  },
  {
   "cell_type": "code",
   "execution_count": 56,
   "id": "6c76a483-6ab8-4ca0-8c08-1997ba1c6b46",
   "metadata": {
    "tags": []
   },
   "outputs": [
    {
     "name": "stdin",
     "output_type": "stream",
     "text": [
      "Please provide a user's name, or a sequence of injuries or type 'quit' to quit: Christian McCaffrey\n"
     ]
    },
    {
     "name": "stdout",
     "output_type": "stream",
     "text": [
      "injury history: ['<s>', 'Healthy', 'Healthy', 'Healthy', 'Ankle', 'Hamstring', '</s>']\n",
      "begin season 5 3 7\n",
      "player's injury history: ['Ankle', 'Hamstring']\n",
      "     Injury  Likelihood  Freq\n",
      "0   Healthy         0.4     2\n",
      "1  Shoulder         0.2     1\n",
      "This concludes our session\n"
     ]
    }
   ],
   "source": [
    "def IRPredictions(injury_history=None, future_injury=None, player=None, num_seasons_back=None):\n",
    "    \n",
    "    \n",
    "    \n",
    "    ''' Takes a sequence of  IR injuries or a player's name and finds the Maximum Likelihood of\n",
    "         a user-provided future injury OR if one is not provided, the top-5 likeliest injuries for that sequence.\n",
    "        \n",
    "    Parameters:\n",
    "    -----------\n",
    "        injury_history : (list) <no default> an ordered sequence representing a player's career where each item \n",
    "        indicates either \"Healthy\" (ie. player wasn't on IR) or the name of an Injury causing the player to land \n",
    "        on Injured Reserve. The ordering of the injuries must correspond to seasons the player played.\n",
    "        \n",
    "        Example:  Player \"A\" was healthy two seasons before having an ankle injury: ['Heathy','Healthy','Ankle']\n",
    "        Example:  Player \"B\" was injured with a knee injury to start their career, had a Healthy season, and was\n",
    "        injured again with an ankle injury:  ['Knee','Healthy','Ankle']\n",
    "        \n",
    "        future_injury :  str default=None A string representing the name of an injury to be predicted on. If none \n",
    "        is provided, a dataframe of the top 5 likeliest injuries is provided\n",
    "        \n",
    "        player : str  default=None NFL Player's name. This will determine the top-5 likeliest injuries (and their associated\n",
    "        probabilities they will incur in the next season\n",
    "        \n",
    "        num_seasons_back : int <default None> the season # to go back assuming the current season is yet to be played). \n",
    "        For Player \"A\" with a sequence of ['Healthy, 'Healthy', 'Ankle', 'Healthy', 'Knee'] specifying \"3\" \n",
    "        would start the model with [\"Ankle\",\"Healthy\",\"Knee\"] ignoring the first two Healthy seasons.\n",
    "        \n",
    "        \n",
    "    Returns:\n",
    "    --------\n",
    "        a float representing the probability the specified future injury will occur provided \n",
    "        either an injury sequence or player was given OR a dataframe containing the top-5 likeliest injuries\n",
    "        and their assocated probabilities of occurring\n",
    "    '''\n",
    "    \n",
    "    if  player is None and  (injury_history is None or len(injury_history) == 0):\n",
    "        return \"\"\"Please provide a valid injury history as a python list. Example: ['Healthy','Healthy','Ankle']\"\"\"\n",
    "    \n",
    "    \n",
    "    if player is not None:\n",
    "        try:\n",
    "            idx = career[career['player'].str.contains(player)].index[0]\n",
    "            srch_reslts = my_new_lst[idx]\n",
    "            # srch_reslts = career[career['player'].str.contains(player)].iloc[0,2:]\n",
    "        except:\n",
    "            print(\"The name provided returned an error. Please re-enter the name\")\n",
    "            return _\n",
    "    \n",
    "        if len(srch_reslts) > 0:\n",
    "            injury_history = [injury for injury in srch_reslts if pd.isnull(injury)==False]\n",
    "            print('injury history:', injury_history)\n",
    "            total_seasons = len(injury_history)\n",
    "            injury_history = list(pad_both_ends(injury_history,2))\n",
    "            if num_seasons_back is None:\n",
    "                if total_seasons >= 5:\n",
    "                    num_seasons_back = 5\n",
    "                elif total_seasons == 1:\n",
    "                    num_seasons_back = 2\n",
    "                else:\n",
    "                    num_seasons_back = total_seasons - 1\n",
    "            \n",
    "            begin_season  = (total_seasons - num_seasons_back) + 1\n",
    "            print('begin season',begin_season, num_seasons_back,total_seasons)\n",
    "            tmp_history = injury_history[begin_season - 1:]\n",
    "            \n",
    "            if \"</s>\" in tmp_history:\n",
    "                idx = injury_history.index('</s>')\n",
    "                begin_season = (total_seasons - num_seasons_back) + 1\n",
    "                injury_history = injury_history[begin_season:idx]\n",
    "            else:\n",
    "                injury_history = tmp_history\n",
    "            print(f\"player's injury history: {injury_history}\")\n",
    "            freq = lm.counts[injury_history]\n",
    "            scores = [(injury[0], lm.score(injury[0], injury_history), injury[1]) for injury in freq.most_common(10) if injury[0] != '</s>']\n",
    "            df = pd.DataFrame(scores, columns = ['Injury','Likelihood','Freq'])\n",
    "            num_total = sum(freq.values())\n",
    "            return df, num_total, injury_history\n",
    "    \n",
    "    elif len(injury_history) > 0:\n",
    "        injury_history = ast.literal_eval(injury_history)\n",
    "        if future_injury is not None:\n",
    "            print('identified future injury')\n",
    "            score = lm.score(future_injury, injury_history)\n",
    "            return score, 8, injury_history\n",
    "        else:\n",
    "            print(f'processing injury history as {injury_history}')\n",
    "            freq = lm.counts[injury_history]\n",
    "            # grab top 6 as one of the items will be the ending sequence tag '</s>'\n",
    "            scores = [(injury[0], lm.score(injury[0], injury_history), injury[1]) for injury in freq.most_common(10) if injury[0] != '</s>']\n",
    "            df = pd.DataFrame(scores, columns = ['Injury','Likelihood','Freq'])\n",
    "            num_total = sum(freq.values())\n",
    "            return df, num_total, injury_history\n",
    "\n",
    "    \n",
    "injury_history = []\n",
    "traffic_light = True   \n",
    "# while traffic_light:\n",
    "user_input = input(\"Please provide a user's name, or a sequence of injuries or type 'quit' to quit:\")\n",
    "if '[' in user_input:\n",
    "    num_seasons_back = 2\n",
    "    injury_history = user_input\n",
    "    output,num_total,injury_history = IRPredictions(injury_history,None, None, num_seasons_back)\n",
    "elif len(user_input) > 4:\n",
    "    player = user_input\n",
    "    output,num_total,injury_history = IRPredictions(None,None, player, 3)\n",
    "    print(output)\n",
    "elif user_input == 'quit':\n",
    "    traffic_light = False\n",
    "\n",
    "            \n",
    "    \n",
    "    print(injury_history, player)\n",
    "    # output,num_total,injury_history = IRPredictions(injury_history, player, num_seasons_back=3)\n",
    "    print(f\"Total Number of Players Matching the injury sequence of {injury_history} :  {num_total}\")\n",
    "    injury_history = []\n",
    "    player = \"\"\n",
    "print(\"This concludes our session\") "
   ]
  },
  {
   "cell_type": "code",
   "execution_count": 58,
   "id": "42d1acee-d9a7-40d3-aae3-b8a6c2e7d7b5",
   "metadata": {
    "tags": []
   },
   "outputs": [
    {
     "data": {
      "text/plain": [
       "(2295, 11)"
      ]
     },
     "execution_count": 58,
     "metadata": {},
     "output_type": "execute_result"
    }
   ],
   "source": []
  },
  {
   "cell_type": "code",
   "execution_count": null,
   "id": "65b56782-4ce1-4dfd-9c2c-b4208d4bb2dc",
   "metadata": {},
   "outputs": [],
   "source": [
    "# Leonard Fournette\n",
    "three_health = career[(career['1']=='Healthy') &\n",
    "       (career['2']=='Foot') &\n",
    "       (career['3']=='Healthy') \n",
    "       # (career['4']!='Healthy')\n",
    "        ]\n",
    "\n",
    "\n",
    "three_health.shape\n",
    "\n",
    "# kam = [injury for injury in kam if pd.isnull(injury) == False ]"
   ]
  },
  {
   "cell_type": "code",
   "execution_count": null,
   "id": "03b1e851-4a92-418f-9cde-b5d3774d6dcc",
   "metadata": {},
   "outputs": [],
   "source": [
    " IRPredictions(None,None, 'Saquon Barkley',3)"
   ]
  },
  {
   "cell_type": "code",
   "execution_count": null,
   "id": "22310ea5-72bf-4c43-94d6-c34ba1892695",
   "metadata": {},
   "outputs": [],
   "source": [
    "career[career['player'].str.contains('Ekeler')]"
   ]
  },
  {
   "cell_type": "code",
   "execution_count": null,
   "id": "e279c982-9734-4d81-9e91-fc2ee475d7ab",
   "metadata": {},
   "outputs": [],
   "source": [
    "lst = ['<s>', 'Healthy', 'Knee', 'Healthy', 'Healthy', 'Healthy', '</s>']"
   ]
  },
  {
   "cell_type": "code",
   "execution_count": null,
   "id": "955e6b94-93e7-4ff0-8d54-a8db99e11a8d",
   "metadata": {},
   "outputs": [],
   "source": [
    "lst.index('</s>')"
   ]
  },
  {
   "cell_type": "code",
   "execution_count": null,
   "id": "f9b463ca-0fca-450c-a535-87a9a3e8c3c2",
   "metadata": {},
   "outputs": [],
   "source": [
    "career[career['player'].str.contains('Marshall')]"
   ]
  },
  {
   "cell_type": "code",
   "execution_count": null,
   "id": "f7809b36-daa4-45de-ab73-e1aaf61b18e8",
   "metadata": {},
   "outputs": [],
   "source": [
    "from nltk.tag import hmm"
   ]
  },
  {
   "cell_type": "code",
   "execution_count": null,
   "id": "c5ed847b-5d6c-4674-baa0-2d7eadc323e9",
   "metadata": {},
   "outputs": [],
   "source": [
    "test = range(5)"
   ]
  },
  {
   "cell_type": "code",
   "execution_count": null,
   "id": "39ce9611-d23f-4012-9cbf-c2954da67ee6",
   "metadata": {},
   "outputs": [],
   "source": [
    "def CreateSequence(career_seq):\n",
    "\n",
    "    if career_seq == \"Healthy\":\n",
    "        s=\"No_IR\"\n",
    "    elif career_seq == '</s>':\n",
    "        s='Retired'\n",
    "    else:\n",
    "        s = 'IR'\n",
    "    return career_seq, s"
   ]
  },
  {
   "cell_type": "code",
   "execution_count": null,
   "id": "631dbb5a-4acf-4d32-a4e9-3acc915babb5",
   "metadata": {},
   "outputs": [],
   "source": [
    "s = \"\"\"\"Your humble writer knows a little bit about a lot of things, but despite writing a fair amount about text processing (a book, for example), linguistic processing is a relatively novel area for me. Forgive me if I stumble through my explanations of the quite remarkable Natural Language Toolkit (NLTK), a wonderful tool for teaching, and working in, computational linguistics using Python. Computational linguistics, moreover, is closely related to the fields of artificial intelligence, language/speech recognition, translation, and grammar checking.\\nWhat NLTK includes\\nIt is natural to think of NLTK as a stacked series of layers that build on each other. Readers familiar with lexing and parsing of artificial languages (like, say, Python) will not have too much of a leap to understand the similar -- but deeper -- layers involved in natural language modeling.\\nGlossary of terms\\nCorpora: Collections of related texts. For example, the works of Shakespeare might, collectively, by called a corpus; the works of several authors, corpora.\\nHistogram: The statistic distribution of the frequency of different words, letters, or other items within a data set.\\nSyntagmatic: The study of syntagma; namely, the statistical relations in the contiguous occurrence of letters, words, or phrases in corpora.\\nContext-free grammar: Type-2 in Noam Chomsky's hierarchy of the four types of formal grammars. See Resources for a thorough description.\\nWhile NLTK comes with a number of corpora that have been pre-processed (often manually) to various degrees, conceptually each layer relies on the processing in the adjacent lower layer. Tokenization comes first; then words are tagged; then groups of words are parsed into grammatical elements, like noun phrases or sentences (according to one of several techniques, each with advantages and drawbacks); and finally sentences or other grammatical units can be classified. Along the way, NLTK gives you the ability to generate statistics about occurrences of various elements, and draw graphs that represent either the processing itself, or statistical aggregates in results.\\nIn this article, you'll see some relatively fleshed-out examples from the lower-level capabilities, but most of the higher-level capabilities will be simply described abstractly. Let's now take the first steps past text processing, narrowly construed. \"\"\"\n",
    "sentences = s.split('.')[:-1]\n",
    "seq = [map(lambda x:(x,''), ss.split(' ')) for ss in sentences]"
   ]
  },
  {
   "cell_type": "code",
   "execution_count": null,
   "id": "08693feb-afb5-4de7-9c79-1c2d794ac463",
   "metadata": {},
   "outputs": [],
   "source": [
    "symbols = list(set(vocab))\n",
    "states=['No_IR', 'IR', 'Retired']\n",
    "trainer = hmm.HiddenMarkovModelTrainer(states=states,symbols=symbols)\n"
   ]
  },
  {
   "cell_type": "code",
   "execution_count": null,
   "id": "177ecb4a-cf02-4351-8168-9157f419745d",
   "metadata": {},
   "outputs": [],
   "source": [
    "import hmmlearn"
   ]
  },
  {
   "cell_type": "code",
   "execution_count": null,
   "id": "6261342a-4acd-4154-8d8d-b1405fa1b11a",
   "metadata": {},
   "outputs": [],
   "source": [
    "lst_obj = []\n",
    "for word in symbols:\n",
    "    score = m.probability([('Healthy',''),('Healthy',''),('Knee',''),('Healthy',''),(word,'')])\n",
    "    obj = {}\n",
    "    obj['injury'] = word\n",
    "    obj['score'] = score   \n",
    "    lst_obj.append(obj)\n",
    "pd.DataFrame(lst_obj).sort_values('score',ascending=False)\n"
   ]
  },
  {
   "cell_type": "code",
   "execution_count": null,
   "id": "347830fa-9f23-49d2-9a92-398a592169d0",
   "metadata": {},
   "outputs": [],
   "source": [
    "lst_obj = []\n",
    "for word in symbols:\n",
    "    score = m.log_probability([])\n",
    "    obj = {}\n",
    "    obj['injury'] = word\n",
    "    obj['score'] = score\n",
    "    lst_obj.append(obj)\n",
    "    \n",
    "df = pd.DataFrame(lst_obj)\n",
    "df.sort_values('score', ascending=False)  \n"
   ]
  },
  {
   "cell_type": "code",
   "execution_count": null,
   "id": "587f317b-6609-4af2-9c7b-6680565508dc",
   "metadata": {},
   "outputs": [],
   "source": [
    "df.iloc[0]['score']"
   ]
  },
  {
   "cell_type": "code",
   "execution_count": null,
   "id": "eaec6526-d722-4bdf-b015-c19470200afb",
   "metadata": {},
   "outputs": [],
   "source": [
    "import math\n",
    "seq = []\n",
    "rand_samp = career.sample(frac=1,random_state=0)\n",
    "train,test = np.split(rand_samp, [int(.8 * len(rand_samp))])\n",
    "train.shape, test.shape\n",
    "\n",
    "my_train = train[[str(x) for x in range(1,9)]]\n",
    "for row in my_train.iterrows():\n",
    "    lst_row = list([x for x in list(row[1].values) if pd.isnull(x)==False])\n",
    "    seq.append(map(CreateSequence, lst_row))\n",
    "\n",
    "my_seq = []\n",
    "for x in seq:\n",
    "    my_seq.append(list(x))\n",
    "\n",
    "seq_test = []\n",
    "seq = []\n",
    "my_test = test[[str(x) for x in range(1,9)]]\n",
    "for row in my_test.iterrows():\n",
    "    lst_row = list([x for x in list(row[1].values) if pd.isnull(x)==False])\n",
    "    seq.append(map(CreateSequence, lst_row))\n",
    "for x in seq:\n",
    "    my_test.append(list(x))\n"
   ]
  },
  {
   "cell_type": "code",
   "execution_count": null,
   "id": "e4284ddd-6070-44cf-b52b-63783a8c35db",
   "metadata": {},
   "outputs": [],
   "source": [
    "num_seasons_back\n",
    "# my_seq[:30]"
   ]
  },
  {
   "cell_type": "code",
   "execution_count": null,
   "id": "36ef0443-187a-4ae1-8214-ca2c8737f7a6",
   "metadata": {},
   "outputs": [],
   "source": [
    "test = map(CreateSequence,['Healthy','Healthy','Ankle'])"
   ]
  },
  {
   "cell_type": "code",
   "execution_count": null,
   "id": "8e503d88-55b6-4c43-bad5-10319e36bfd3",
   "metadata": {},
   "outputs": [],
   "source": [
    "for i in test:\n",
    "    print(tuple(i))"
   ]
  },
  {
   "cell_type": "code",
   "execution_count": null,
   "id": "bd953b83-cf73-4bd7-bbff-2d037b9c60af",
   "metadata": {},
   "outputs": [],
   "source": [
    "url = 'http://nddleague.com:999/Knee'\n",
    "data = json.dumps({\"ir_history\": ['Healthy','Healthy']})\n",
    "\n",
    "\n",
    "\n",
    "resp = requests.get(url,data=data)"
   ]
  },
  {
   "cell_type": "code",
   "execution_count": null,
   "id": "0ea14293-e34a-4a70-9ec0-b4c5cb3d566d",
   "metadata": {},
   "outputs": [],
   "source": [
    "requests."
   ]
  },
  {
   "cell_type": "code",
   "execution_count": null,
   "id": "4245d888-4962-41a1-98a0-af8fa51edf14",
   "metadata": {},
   "outputs": [],
   "source": [
    "career[(career['1'] != 'Healthy') & \n",
    "       (career['2'] != 'Healthy')][['1','2']]"
   ]
  },
  {
   "cell_type": "code",
   "execution_count": null,
   "id": "f0745a44-ac31-4a8e-a46b-573cd9bc333e",
   "metadata": {},
   "outputs": [],
   "source": []
  }
 ],
 "metadata": {
  "kernelspec": {
   "display_name": "Python 3 (ipykernel)",
   "language": "python",
   "name": "python3"
  },
  "language_info": {
   "codemirror_mode": {
    "name": "ipython",
    "version": 3
   },
   "file_extension": ".py",
   "mimetype": "text/x-python",
   "name": "python",
   "nbconvert_exporter": "python",
   "pygments_lexer": "ipython3",
   "version": "3.11.4"
  }
 },
 "nbformat": 4,
 "nbformat_minor": 5
}
